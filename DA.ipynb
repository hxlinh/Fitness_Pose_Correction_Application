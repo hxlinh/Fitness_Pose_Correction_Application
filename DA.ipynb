{
  "cells": [
    {
      "cell_type": "markdown",
      "metadata": {
        "id": "view-in-github",
        "colab_type": "text"
      },
      "source": [
        "<a href=\"https://colab.research.google.com/github/hxlinh/Fitness_Pose_Correction_Application/blob/main/DA.ipynb\" target=\"_parent\"><img src=\"https://colab.research.google.com/assets/colab-badge.svg\" alt=\"Open In Colab\"/></a>"
      ]
    },
    {
      "cell_type": "code",
      "execution_count": null,
      "metadata": {
        "colab": {
          "base_uri": "https://localhost:8080/"
        },
        "id": "GlJFTMO4PnMJ",
        "outputId": "5c5ceaad-57be-464e-d6f5-d1f1aedf36b4"
      },
      "outputs": [
        {
          "output_type": "stream",
          "name": "stdout",
          "text": [
            "Collecting mediapipe\n",
            "  Downloading mediapipe-0.10.20-cp310-cp310-manylinux_2_28_x86_64.whl.metadata (9.7 kB)\n",
            "Requirement already satisfied: opencv-python in /usr/local/lib/python3.10/dist-packages (4.10.0.84)\n",
            "Requirement already satisfied: tensorflow in /usr/local/lib/python3.10/dist-packages (2.17.1)\n",
            "Requirement already satisfied: keras in /usr/local/lib/python3.10/dist-packages (3.5.0)\n",
            "Collecting utils\n",
            "  Downloading utils-1.0.2.tar.gz (13 kB)\n",
            "  Preparing metadata (setup.py) ... \u001b[?25l\u001b[?25hdone\n",
            "Requirement already satisfied: absl-py in /usr/local/lib/python3.10/dist-packages (from mediapipe) (1.4.0)\n",
            "Requirement already satisfied: attrs>=19.1.0 in /usr/local/lib/python3.10/dist-packages (from mediapipe) (24.3.0)\n",
            "Requirement already satisfied: flatbuffers>=2.0 in /usr/local/lib/python3.10/dist-packages (from mediapipe) (24.3.25)\n",
            "Requirement already satisfied: jax in /usr/local/lib/python3.10/dist-packages (from mediapipe) (0.4.33)\n",
            "Requirement already satisfied: jaxlib in /usr/local/lib/python3.10/dist-packages (from mediapipe) (0.4.33)\n",
            "Requirement already satisfied: matplotlib in /usr/local/lib/python3.10/dist-packages (from mediapipe) (3.8.0)\n",
            "Requirement already satisfied: numpy<2 in /usr/local/lib/python3.10/dist-packages (from mediapipe) (1.26.4)\n",
            "Requirement already satisfied: opencv-contrib-python in /usr/local/lib/python3.10/dist-packages (from mediapipe) (4.10.0.84)\n",
            "Requirement already satisfied: protobuf<5,>=4.25.3 in /usr/local/lib/python3.10/dist-packages (from mediapipe) (4.25.5)\n",
            "Collecting sounddevice>=0.4.4 (from mediapipe)\n",
            "  Downloading sounddevice-0.5.1-py3-none-any.whl.metadata (1.4 kB)\n",
            "Requirement already satisfied: sentencepiece in /usr/local/lib/python3.10/dist-packages (from mediapipe) (0.2.0)\n",
            "Requirement already satisfied: astunparse>=1.6.0 in /usr/local/lib/python3.10/dist-packages (from tensorflow) (1.6.3)\n",
            "Requirement already satisfied: gast!=0.5.0,!=0.5.1,!=0.5.2,>=0.2.1 in /usr/local/lib/python3.10/dist-packages (from tensorflow) (0.6.0)\n",
            "Requirement already satisfied: google-pasta>=0.1.1 in /usr/local/lib/python3.10/dist-packages (from tensorflow) (0.2.0)\n",
            "Requirement already satisfied: h5py>=3.10.0 in /usr/local/lib/python3.10/dist-packages (from tensorflow) (3.12.1)\n",
            "Requirement already satisfied: libclang>=13.0.0 in /usr/local/lib/python3.10/dist-packages (from tensorflow) (18.1.1)\n",
            "Requirement already satisfied: ml-dtypes<0.5.0,>=0.3.1 in /usr/local/lib/python3.10/dist-packages (from tensorflow) (0.4.1)\n",
            "Requirement already satisfied: opt-einsum>=2.3.2 in /usr/local/lib/python3.10/dist-packages (from tensorflow) (3.4.0)\n",
            "Requirement already satisfied: packaging in /usr/local/lib/python3.10/dist-packages (from tensorflow) (24.2)\n",
            "Requirement already satisfied: requests<3,>=2.21.0 in /usr/local/lib/python3.10/dist-packages (from tensorflow) (2.32.3)\n",
            "Requirement already satisfied: setuptools in /usr/local/lib/python3.10/dist-packages (from tensorflow) (75.1.0)\n",
            "Requirement already satisfied: six>=1.12.0 in /usr/local/lib/python3.10/dist-packages (from tensorflow) (1.17.0)\n",
            "Requirement already satisfied: termcolor>=1.1.0 in /usr/local/lib/python3.10/dist-packages (from tensorflow) (2.5.0)\n",
            "Requirement already satisfied: typing-extensions>=3.6.6 in /usr/local/lib/python3.10/dist-packages (from tensorflow) (4.12.2)\n",
            "Requirement already satisfied: wrapt>=1.11.0 in /usr/local/lib/python3.10/dist-packages (from tensorflow) (1.17.0)\n",
            "Requirement already satisfied: grpcio<2.0,>=1.24.3 in /usr/local/lib/python3.10/dist-packages (from tensorflow) (1.68.1)\n",
            "Requirement already satisfied: tensorboard<2.18,>=2.17 in /usr/local/lib/python3.10/dist-packages (from tensorflow) (2.17.1)\n",
            "Requirement already satisfied: tensorflow-io-gcs-filesystem>=0.23.1 in /usr/local/lib/python3.10/dist-packages (from tensorflow) (0.37.1)\n",
            "Requirement already satisfied: rich in /usr/local/lib/python3.10/dist-packages (from keras) (13.9.4)\n",
            "Requirement already satisfied: namex in /usr/local/lib/python3.10/dist-packages (from keras) (0.0.8)\n",
            "Requirement already satisfied: optree in /usr/local/lib/python3.10/dist-packages (from keras) (0.13.1)\n",
            "Requirement already satisfied: wheel<1.0,>=0.23.0 in /usr/local/lib/python3.10/dist-packages (from astunparse>=1.6.0->tensorflow) (0.45.1)\n",
            "Requirement already satisfied: charset-normalizer<4,>=2 in /usr/local/lib/python3.10/dist-packages (from requests<3,>=2.21.0->tensorflow) (3.4.0)\n",
            "Requirement already satisfied: idna<4,>=2.5 in /usr/local/lib/python3.10/dist-packages (from requests<3,>=2.21.0->tensorflow) (3.10)\n",
            "Requirement already satisfied: urllib3<3,>=1.21.1 in /usr/local/lib/python3.10/dist-packages (from requests<3,>=2.21.0->tensorflow) (2.2.3)\n",
            "Requirement already satisfied: certifi>=2017.4.17 in /usr/local/lib/python3.10/dist-packages (from requests<3,>=2.21.0->tensorflow) (2024.12.14)\n",
            "Requirement already satisfied: CFFI>=1.0 in /usr/local/lib/python3.10/dist-packages (from sounddevice>=0.4.4->mediapipe) (1.17.1)\n",
            "Requirement already satisfied: markdown>=2.6.8 in /usr/local/lib/python3.10/dist-packages (from tensorboard<2.18,>=2.17->tensorflow) (3.7)\n",
            "Requirement already satisfied: tensorboard-data-server<0.8.0,>=0.7.0 in /usr/local/lib/python3.10/dist-packages (from tensorboard<2.18,>=2.17->tensorflow) (0.7.2)\n",
            "Requirement already satisfied: werkzeug>=1.0.1 in /usr/local/lib/python3.10/dist-packages (from tensorboard<2.18,>=2.17->tensorflow) (3.1.3)\n",
            "Requirement already satisfied: scipy>=1.10 in /usr/local/lib/python3.10/dist-packages (from jax->mediapipe) (1.13.1)\n",
            "Requirement already satisfied: contourpy>=1.0.1 in /usr/local/lib/python3.10/dist-packages (from matplotlib->mediapipe) (1.3.1)\n",
            "Requirement already satisfied: cycler>=0.10 in /usr/local/lib/python3.10/dist-packages (from matplotlib->mediapipe) (0.12.1)\n",
            "Requirement already satisfied: fonttools>=4.22.0 in /usr/local/lib/python3.10/dist-packages (from matplotlib->mediapipe) (4.55.3)\n",
            "Requirement already satisfied: kiwisolver>=1.0.1 in /usr/local/lib/python3.10/dist-packages (from matplotlib->mediapipe) (1.4.7)\n",
            "Requirement already satisfied: pillow>=6.2.0 in /usr/local/lib/python3.10/dist-packages (from matplotlib->mediapipe) (11.0.0)\n",
            "Requirement already satisfied: pyparsing>=2.3.1 in /usr/local/lib/python3.10/dist-packages (from matplotlib->mediapipe) (3.2.0)\n",
            "Requirement already satisfied: python-dateutil>=2.7 in /usr/local/lib/python3.10/dist-packages (from matplotlib->mediapipe) (2.8.2)\n",
            "Requirement already satisfied: markdown-it-py>=2.2.0 in /usr/local/lib/python3.10/dist-packages (from rich->keras) (3.0.0)\n",
            "Requirement already satisfied: pygments<3.0.0,>=2.13.0 in /usr/local/lib/python3.10/dist-packages (from rich->keras) (2.18.0)\n",
            "Requirement already satisfied: pycparser in /usr/local/lib/python3.10/dist-packages (from CFFI>=1.0->sounddevice>=0.4.4->mediapipe) (2.22)\n",
            "Requirement already satisfied: mdurl~=0.1 in /usr/local/lib/python3.10/dist-packages (from markdown-it-py>=2.2.0->rich->keras) (0.1.2)\n",
            "Requirement already satisfied: MarkupSafe>=2.1.1 in /usr/local/lib/python3.10/dist-packages (from werkzeug>=1.0.1->tensorboard<2.18,>=2.17->tensorflow) (3.0.2)\n",
            "Downloading mediapipe-0.10.20-cp310-cp310-manylinux_2_28_x86_64.whl (35.6 MB)\n",
            "\u001b[2K   \u001b[90m━━━━━━━━━━━━━━━━━━━━━━━━━━━━━━━━━━━━━━━━\u001b[0m \u001b[32m35.6/35.6 MB\u001b[0m \u001b[31m15.7 MB/s\u001b[0m eta \u001b[36m0:00:00\u001b[0m\n",
            "\u001b[?25hDownloading sounddevice-0.5.1-py3-none-any.whl (32 kB)\n",
            "Building wheels for collected packages: utils\n",
            "  Building wheel for utils (setup.py) ... \u001b[?25l\u001b[?25hdone\n",
            "  Created wheel for utils: filename=utils-1.0.2-py2.py3-none-any.whl size=13906 sha256=a5cd1c6bf360b21bc4bd34de25da65eee82c5f02cff8bbea88744059dcc19b89\n",
            "  Stored in directory: /root/.cache/pip/wheels/b8/39/f5/9d0ca31dba85773ececf0a7f5469f18810e1c8a8ed9da28ca7\n",
            "Successfully built utils\n",
            "Installing collected packages: utils, sounddevice, mediapipe\n",
            "Successfully installed mediapipe-0.10.20 sounddevice-0.5.1 utils-1.0.2\n"
          ]
        }
      ],
      "source": [
        "!pip install mediapipe opencv-python tensorflow keras utils"
      ]
    },
    {
      "cell_type": "code",
      "execution_count": null,
      "metadata": {
        "colab": {
          "base_uri": "https://localhost:8080/"
        },
        "id": "ZOHDOPmCP-JV",
        "outputId": "2218f3af-ffcf-45e5-c38c-80bf9bf560f6"
      },
      "outputs": [
        {
          "output_type": "stream",
          "name": "stdout",
          "text": [
            "Mounted at /content/drive\n"
          ]
        }
      ],
      "source": [
        "import os\n",
        "import cv2\n",
        "import numpy as np\n",
        "import mediapipe as mp\n",
        "import shutil\n",
        "import tensorflow as tf\n",
        "from tensorflow.keras.models import Sequential, Model\n",
        "from tensorflow.keras.layers import LSTM, Dense, Dropout, Input, Bidirectional, Flatten, Permute, multiply\n",
        "from tensorflow.keras.callbacks import EarlyStopping, ReduceLROnPlateau, ModelCheckpoint, TensorBoard\n",
        "from tensorflow.keras.utils import to_categorical\n",
        "from sklearn.model_selection import train_test_split\n",
        "from sklearn.metrics import confusion_matrix\n",
        "from sklearn.metrics import accuracy_score\n",
        "from sklearn.metrics import classification_report\n",
        "import time\n",
        "from mediapipe.framework.formats import landmark_pb2\n",
        "import copy\n",
        "from google.colab import drive\n",
        "drive.mount('/content/drive')\n",
        "from google.colab.patches import cv2_imshow\n",
        "import matplotlib.pyplot as plt\n",
        "import seaborn as sns\n",
        "\n",
        "#Đường dẫn đến thư mục chứa video và lưu trữ landmarks\n",
        "# VIDEO_PATH = '/content/drive/MyDrive/videos'\n",
        "# DATA_PATH = '/content/drive/MyDrive/data'\n",
        "\n",
        "# Đường dẫn đến thư mục chúa video test và lưu trữ landmarks\n",
        "VIDEO_PATH = '/content/drive/MyDrive/data_test'\n",
        "DATA_PATH = '/content/drive/MyDrive/data'"
      ]
    },
    {
      "cell_type": "code",
      "execution_count": null,
      "metadata": {
        "id": "Yfqtj8ORR-js"
      },
      "outputs": [],
      "source": [
        "def get_bounding_box(results, margin=10):\n",
        "    if not results.pose_landmarks:\n",
        "        return None\n",
        "\n",
        "    landmarks = results.pose_landmarks.landmark\n",
        "    x_coords = [landmark.x for landmark in landmarks]\n",
        "    y_coords = [landmark.y for landmark in landmarks]\n",
        "\n",
        "    x_min = max(min(x_coords) - margin / 100, 0)\n",
        "    x_max = min(max(x_coords) + margin / 100, 1)\n",
        "    y_min = max(min(y_coords) - margin / 100, 0)\n",
        "    y_max = min(max(y_coords) + margin / 100, 1)\n",
        "\n",
        "    return x_min, x_max, y_min, y_max"
      ]
    },
    {
      "cell_type": "code",
      "execution_count": null,
      "metadata": {
        "colab": {
          "base_uri": "https://localhost:8080/"
        },
        "id": "wfIVbQPDSEO6",
        "outputId": "c83e1607-1865-466e-a827-72af04683f87"
      },
      "outputs": [
        {
          "output_type": "stream",
          "name": "stdout",
          "text": [
            "Đang xử lý video: /content/drive/MyDrive/data_test/plank/1/squat_1.mp4\n",
            "Đã lưu sequence 1 từ video /content/drive/MyDrive/data_test/plank/1/squat_1.mp4\n",
            "Đã lưu sequence 2 từ video /content/drive/MyDrive/data_test/plank/1/squat_1.mp4\n",
            "Đã lưu sequence 3 từ video /content/drive/MyDrive/data_test/plank/1/squat_1.mp4\n",
            "Đã lưu sequence 4 từ video /content/drive/MyDrive/data_test/plank/1/squat_1.mp4\n",
            "Đã xoá sequence cuối cùng vì không đủ 10 frame từ video /content/drive/MyDrive/data_test/plank/1/squat_1.mp4\n",
            "Đang xử lý video: /content/drive/MyDrive/data_test/plank/5/squat_1.mp4\n",
            "Đã lưu sequence 4 từ video /content/drive/MyDrive/data_test/plank/5/squat_1.mp4\n",
            "Đã lưu sequence 5 từ video /content/drive/MyDrive/data_test/plank/5/squat_1.mp4\n",
            "Đã lưu sequence 6 từ video /content/drive/MyDrive/data_test/plank/5/squat_1.mp4\n",
            "Đã lưu sequence 7 từ video /content/drive/MyDrive/data_test/plank/5/squat_1.mp4\n",
            "Đã lưu sequence 8 từ video /content/drive/MyDrive/data_test/plank/5/squat_1.mp4\n",
            "Đã lưu sequence 9 từ video /content/drive/MyDrive/data_test/plank/5/squat_1.mp4\n",
            "Đã xoá sequence cuối cùng vì không đủ 10 frame từ video /content/drive/MyDrive/data_test/plank/5/squat_1.mp4\n",
            "Đang xử lý video: /content/drive/MyDrive/data_test/plank/2/squat_1.mp4\n",
            "Đã lưu sequence 9 từ video /content/drive/MyDrive/data_test/plank/2/squat_1.mp4\n",
            "Đã lưu sequence 10 từ video /content/drive/MyDrive/data_test/plank/2/squat_1.mp4\n",
            "Đã lưu sequence 11 từ video /content/drive/MyDrive/data_test/plank/2/squat_1.mp4\n",
            "Đã lưu sequence 12 từ video /content/drive/MyDrive/data_test/plank/2/squat_1.mp4\n",
            "Đã lưu sequence 13 từ video /content/drive/MyDrive/data_test/plank/2/squat_1.mp4\n",
            "Đã xoá sequence cuối cùng vì không đủ 10 frame từ video /content/drive/MyDrive/data_test/plank/2/squat_1.mp4\n",
            "Đang xử lý video: /content/drive/MyDrive/data_test/plank/correct/squat_1.mp4\n",
            "Đã lưu sequence 13 từ video /content/drive/MyDrive/data_test/plank/correct/squat_1.mp4\n",
            "Đã lưu sequence 14 từ video /content/drive/MyDrive/data_test/plank/correct/squat_1.mp4\n",
            "Đã lưu sequence 15 từ video /content/drive/MyDrive/data_test/plank/correct/squat_1.mp4\n",
            "Đã lưu sequence 16 từ video /content/drive/MyDrive/data_test/plank/correct/squat_1.mp4\n",
            "Đã lưu sequence 17 từ video /content/drive/MyDrive/data_test/plank/correct/squat_1.mp4\n",
            "Đã lưu sequence 18 từ video /content/drive/MyDrive/data_test/plank/correct/squat_1.mp4\n",
            "Đã lưu sequence 19 từ video /content/drive/MyDrive/data_test/plank/correct/squat_1.mp4\n",
            "Đã lưu sequence 20 từ video /content/drive/MyDrive/data_test/plank/correct/squat_1.mp4\n",
            "Đã xoá sequence cuối cùng vì không đủ 10 frame từ video /content/drive/MyDrive/data_test/plank/correct/squat_1.mp4\n",
            "Đang xử lý video: /content/drive/MyDrive/data_test/plank/4/squat_2.mp4\n",
            "Đã lưu sequence 20 từ video /content/drive/MyDrive/data_test/plank/4/squat_2.mp4\n",
            "Đã lưu sequence 21 từ video /content/drive/MyDrive/data_test/plank/4/squat_2.mp4\n",
            "Đã xoá sequence cuối cùng vì không đủ 10 frame từ video /content/drive/MyDrive/data_test/plank/4/squat_2.mp4\n",
            "Đang xử lý video: /content/drive/MyDrive/data_test/plank/4/squat_3.mp4\n",
            "Đã lưu sequence 21 từ video /content/drive/MyDrive/data_test/plank/4/squat_3.mp4\n",
            "Đã lưu sequence 22 từ video /content/drive/MyDrive/data_test/plank/4/squat_3.mp4\n",
            "Đã lưu sequence 23 từ video /content/drive/MyDrive/data_test/plank/4/squat_3.mp4\n",
            "Đã xoá sequence cuối cùng vì không đủ 10 frame từ video /content/drive/MyDrive/data_test/plank/4/squat_3.mp4\n",
            "Đang xử lý video: /content/drive/MyDrive/data_test/plank/3/squat_1.mp4\n",
            "Đã lưu sequence 23 từ video /content/drive/MyDrive/data_test/plank/3/squat_1.mp4\n",
            "Đã lưu sequence 24 từ video /content/drive/MyDrive/data_test/plank/3/squat_1.mp4\n",
            "Đã lưu sequence 25 từ video /content/drive/MyDrive/data_test/plank/3/squat_1.mp4\n",
            "Đã lưu sequence 26 từ video /content/drive/MyDrive/data_test/plank/3/squat_1.mp4\n",
            "Đã lưu sequence 27 từ video /content/drive/MyDrive/data_test/plank/3/squat_1.mp4\n",
            "Đã lưu sequence 28 từ video /content/drive/MyDrive/data_test/plank/3/squat_1.mp4\n",
            "Đã lưu sequence 29 từ video /content/drive/MyDrive/data_test/plank/3/squat_1.mp4\n",
            "Đã lưu sequence 30 từ video /content/drive/MyDrive/data_test/plank/3/squat_1.mp4\n",
            "Đã lưu sequence 31 từ video /content/drive/MyDrive/data_test/plank/3/squat_1.mp4\n",
            "Đã xoá sequence cuối cùng vì không đủ 10 frame từ video /content/drive/MyDrive/data_test/plank/3/squat_1.mp4\n",
            "Đã hoàn thành xử lý video và lưu landmarks.\n"
          ]
        }
      ],
      "source": [
        "# Thiết lập Mediapipe\n",
        "mp_pose = mp.solutions.pose\n",
        "\n",
        "# Biến toàn cục để đếm số thứ tự của sequence trên tất cả video\n",
        "global_sequence_number = 1\n",
        "\n",
        "def mediapipe_detection(image, model, bbox=None):\n",
        "    image = cv2.cvtColor(image, cv2.COLOR_BGR2RGB)\n",
        "    image.flags.writeable = False\n",
        "    results = model.process(image)\n",
        "    image.flags.writeable = True\n",
        "    image = cv2.cvtColor(image, cv2.COLOR_RGB2BGR)\n",
        "    if bbox is None:\n",
        "        bbox = get_bounding_box(results)\n",
        "    if bbox:\n",
        "        h, w, _ = image.shape\n",
        "        x_min, x_max, y_min, y_max = bbox\n",
        "        x_min = int(x_min * w)\n",
        "        x_max = int(x_max * w)\n",
        "        y_min = int(y_min * h)\n",
        "        y_max = int(y_max * h)\n",
        "        cropped_image = image[y_min:y_max, x_min:x_max]\n",
        "        if results.pose_landmarks:\n",
        "            new_pose_landmarks = landmark_pb2.NormalizedLandmarkList()\n",
        "            for landmark in results.pose_landmarks.landmark:\n",
        "                new_x = (landmark.x * w - x_min) / (x_max - x_min)\n",
        "                new_y = (landmark.y * h - y_min) / (y_max - y_min)\n",
        "                new_x = max(0.0, min(1.0, new_x))\n",
        "                new_y = max(0.0, min(1.0, new_y))\n",
        "                new_landmark = landmark_pb2.NormalizedLandmark(\n",
        "                    x=new_x,\n",
        "                    y=new_y,\n",
        "                    z=landmark.z,\n",
        "                    visibility=landmark.visibility\n",
        "                )\n",
        "                new_pose_landmarks.landmark.append(new_landmark)\n",
        "            new_results = copy.deepcopy(results)\n",
        "            new_results.pose_landmarks = new_pose_landmarks\n",
        "            return cropped_image, new_results, bbox\n",
        "        return cropped_image, results, bbox\n",
        "    return image, results, bbox\n",
        "\n",
        "def extract_keypoints(results):\n",
        "    \"\"\" Xử lý và tổ chức keypoints từ mô hình phát hiện pose \"\"\"\n",
        "    selected_landmarks = [11, 12, 13, 14, 15, 16, 23, 24, 25, 26, 27, 28]\n",
        "    pose = np.array([[res.x, res.y, res.z, res.visibility] for idx, res in enumerate(results.pose_landmarks.landmark) if idx in selected_landmarks]).flatten() if results.pose_landmarks else np.zeros(len(selected_landmarks) * 4)\n",
        "    return pose\n",
        "\n",
        "def extract_landmarks_from_video(video_path, action, folder, fps=10):\n",
        "    global global_sequence_number  # Sử dụng biến toàn cục để giữ thứ tự sequence giữa các video\n",
        "    cap = cv2.VideoCapture(video_path)\n",
        "    frame_rate = cap.get(cv2.CAP_PROP_FPS)  # FPS của video\n",
        "    frame_count = 0\n",
        "    landmarks_all_frames = []\n",
        "\n",
        "    # Calculate how many frames to skip to capture 10 frames per second\n",
        "    skip_rate = int(frame_rate / fps)\n",
        "\n",
        "    # Sử dụng pose model của Mediapipe\n",
        "    with mp_pose.Pose(min_detection_confidence=0.5, min_tracking_confidence=0.5) as pose:\n",
        "        bbox = None\n",
        "        while cap.isOpened():\n",
        "            ret, frame = cap.read()\n",
        "            if not ret:\n",
        "                break\n",
        "\n",
        "            # Extract frame every 'skip_rate' frames to get approximately 'fps' frames per second\n",
        "            if frame_count % skip_rate == 0:\n",
        "                image, results, bbox = mediapipe_detection(frame, pose, bbox)\n",
        "                keypoints = extract_keypoints(results)\n",
        "                landmarks_all_frames.append(keypoints)\n",
        "\n",
        "                # Hiển thị khung hình trên màn hình\n",
        "                # cv2_imshow(image)\n",
        "                # if cv2.waitKey(1) & 0xFF == ord('q'):\n",
        "                #   break\n",
        "\n",
        "                # Save a sequence of 10 frames\n",
        "                if len(landmarks_all_frames) == 10:\n",
        "                    sequence_folder = os.path.join(DATA_PATH, action, str(global_sequence_number))\n",
        "                    os.makedirs(sequence_folder, exist_ok=True)\n",
        "\n",
        "                    # Save each frame's landmarks in the sequence folder\n",
        "                    for frame_idx, frame_landmarks in enumerate(landmarks_all_frames):\n",
        "                        frame_folder = os.path.join(sequence_folder, f\"frame{frame_idx + 1}\")\n",
        "                        os.makedirs(frame_folder, exist_ok=True)\n",
        "                        np.save(os.path.join(frame_folder, f\"{folder}.npy\"), frame_landmarks)\n",
        "\n",
        "                    print(f\"Đã lưu sequence {global_sequence_number} từ video {video_path}\")\n",
        "                    landmarks_all_frames = []\n",
        "                    global_sequence_number += 1\n",
        "\n",
        "            frame_count += 1\n",
        "\n",
        "    # Xóa sequence cuối nếu không đủ 10 frames\n",
        "    if len(landmarks_all_frames) > 0:\n",
        "        global_sequence_number -= 1  # Giảm số thứ tự sequence vì sequence cuối không hợp lệ\n",
        "        last_seq_folder = os.path.join(DATA_PATH, action, str(global_sequence_number))\n",
        "        if os.path.exists(last_seq_folder):\n",
        "            shutil.rmtree(last_seq_folder)\n",
        "            print(f\"Đã xoá sequence cuối cùng vì không đủ 10 frame từ video {video_path}\")\n",
        "\n",
        "    cap.release()\n",
        "    # cv2.destroyAllWindows()\n",
        "\n",
        "def process_all_videos():\n",
        "    global global_sequence_number\n",
        "    action_path = os.path.join(VIDEO_PATH, 'plank')\n",
        "    if os.path.isdir(action_path):\n",
        "        for folder in os.listdir(action_path):\n",
        "            folder_path = os.path.join(action_path, folder)\n",
        "            if os.path.isdir(folder_path):\n",
        "                video_files = [f for f in os.listdir(folder_path) if f.endswith('.mp4')]\n",
        "\n",
        "                for video_file in video_files:\n",
        "                    video_path = os.path.join(folder_path, video_file)\n",
        "                    print(f\"Đang xử lý video: {video_path}\")\n",
        "                    extract_landmarks_from_video(video_path, 'plank', folder)\n",
        "\n",
        "# Gọi hàm để xử lý tất cả video\n",
        "process_all_videos()\n",
        "\n",
        "print(\"Đã hoàn thành xử lý video và lưu landmarks.\")"
      ]
    },
    {
      "cell_type": "code",
      "execution_count": null,
      "metadata": {
        "colab": {
          "base_uri": "https://localhost:8080/",
          "height": 332
        },
        "id": "ivCB6Vb8Whfb",
        "outputId": "e9159244-ea20-40e1-aa90-9ef4a56f3f19"
      },
      "outputs": [
        {
          "ename": "FileNotFoundError",
          "evalue": "[Errno 2] No such file or directory: '/content/drive/MyDrive/data/squat/1000/frame10/14.npy'",
          "output_type": "error",
          "traceback": [
            "\u001b[0;31m---------------------------------------------------------------------------\u001b[0m",
            "\u001b[0;31mFileNotFoundError\u001b[0m                         Traceback (most recent call last)",
            "\u001b[0;32m<ipython-input-4-b39c5494dc8e>\u001b[0m in \u001b[0;36m<cell line: 5>\u001b[0;34m()\u001b[0m\n\u001b[1;32m      3\u001b[0m \u001b[0;34m\u001b[0m\u001b[0m\n\u001b[1;32m      4\u001b[0m \u001b[0;31m# Tải dữ liệu landmarks từ tệp .npy với allow_pickle=True\u001b[0m\u001b[0;34m\u001b[0m\u001b[0;34m\u001b[0m\u001b[0m\n\u001b[0;32m----> 5\u001b[0;31m \u001b[0mlandmarks_data\u001b[0m \u001b[0;34m=\u001b[0m \u001b[0mnp\u001b[0m\u001b[0;34m.\u001b[0m\u001b[0mload\u001b[0m\u001b[0;34m(\u001b[0m\u001b[0mlandmarks_data_path\u001b[0m\u001b[0;34m,\u001b[0m \u001b[0mallow_pickle\u001b[0m\u001b[0;34m=\u001b[0m\u001b[0;32mTrue\u001b[0m\u001b[0;34m)\u001b[0m\u001b[0;34m\u001b[0m\u001b[0;34m\u001b[0m\u001b[0m\n\u001b[0m\u001b[1;32m      6\u001b[0m \u001b[0;34m\u001b[0m\u001b[0m\n\u001b[1;32m      7\u001b[0m \u001b[0;31m# Kiểm tra hình dạng và nội dung\u001b[0m\u001b[0;34m\u001b[0m\u001b[0;34m\u001b[0m\u001b[0m\n",
            "\u001b[0;32m/usr/local/lib/python3.10/dist-packages/numpy/lib/npyio.py\u001b[0m in \u001b[0;36mload\u001b[0;34m(file, mmap_mode, allow_pickle, fix_imports, encoding, max_header_size)\u001b[0m\n\u001b[1;32m    425\u001b[0m             \u001b[0mown_fid\u001b[0m \u001b[0;34m=\u001b[0m \u001b[0;32mFalse\u001b[0m\u001b[0;34m\u001b[0m\u001b[0;34m\u001b[0m\u001b[0m\n\u001b[1;32m    426\u001b[0m         \u001b[0;32melse\u001b[0m\u001b[0;34m:\u001b[0m\u001b[0;34m\u001b[0m\u001b[0;34m\u001b[0m\u001b[0m\n\u001b[0;32m--> 427\u001b[0;31m             \u001b[0mfid\u001b[0m \u001b[0;34m=\u001b[0m \u001b[0mstack\u001b[0m\u001b[0;34m.\u001b[0m\u001b[0menter_context\u001b[0m\u001b[0;34m(\u001b[0m\u001b[0mopen\u001b[0m\u001b[0;34m(\u001b[0m\u001b[0mos_fspath\u001b[0m\u001b[0;34m(\u001b[0m\u001b[0mfile\u001b[0m\u001b[0;34m)\u001b[0m\u001b[0;34m,\u001b[0m \u001b[0;34m\"rb\"\u001b[0m\u001b[0;34m)\u001b[0m\u001b[0;34m)\u001b[0m\u001b[0;34m\u001b[0m\u001b[0;34m\u001b[0m\u001b[0m\n\u001b[0m\u001b[1;32m    428\u001b[0m             \u001b[0mown_fid\u001b[0m \u001b[0;34m=\u001b[0m \u001b[0;32mTrue\u001b[0m\u001b[0;34m\u001b[0m\u001b[0;34m\u001b[0m\u001b[0m\n\u001b[1;32m    429\u001b[0m \u001b[0;34m\u001b[0m\u001b[0m\n",
            "\u001b[0;31mFileNotFoundError\u001b[0m: [Errno 2] No such file or directory: '/content/drive/MyDrive/data/squat/1000/frame10/14.npy'"
          ]
        }
      ],
      "source": [
        "# Đường dẫn đến tệp landmarks mà bạn muốn tải\n",
        "landmarks_data_path = '/content/drive/MyDrive/data/squat/1000/frame10/14.npy'\n",
        "\n",
        "# Tải dữ liệu landmarks từ tệp .npy với allow_pickle=True\n",
        "landmarks_data = np.load(landmarks_data_path, allow_pickle=True)\n",
        "\n",
        "# Kiểm tra hình dạng và nội dung\n",
        "print(\"Shape of landmarks data:\", landmarks_data)"
      ]
    },
    {
      "cell_type": "code",
      "execution_count": null,
      "metadata": {
        "colab": {
          "base_uri": "https://localhost:8080/"
        },
        "id": "qY6iARB0Wuhy",
        "outputId": "06f6554c-65e5-464d-86ff-7634a29ad123"
      },
      "outputs": [
        {
          "output_type": "stream",
          "name": "stdout",
          "text": [
            "Label map: {'c': 0, '1': 1, '2': 2, '3': 3, '4': 4, '5': 5}\n",
            "Dữ liệu đầu vào (X): (30, 10, 48)\n",
            "Nhãn (y): (30,)\n",
            "Nhãn sau khi one-hot encoding: (30, 6)\n"
          ]
        }
      ],
      "source": [
        "# Định nghĩa danh sách các action\n",
        "actions = ['c', '1', '2', '3', '4', '5']  # Ví dụ về các hành động cần phân loại\n",
        "\n",
        "# Tạo label_map từ các action\n",
        "label_map = {label: num for num, label in enumerate(actions)}\n",
        "print(\"Label map:\", label_map)\n",
        "\n",
        "# Đọc và tổ chức dữ liệu training\n",
        "sequence_length = 10  # Số frame trong mỗi sequence (có thể thay đổi theo nhu cầu)\n",
        "sequences, labels = [], []\n",
        "\n",
        "# Đọc các file từ DATA_PATH\n",
        "\n",
        "action_path = os.path.join(DATA_PATH, 'plank')  # Đường dẫn tới thư mục action\n",
        "\n",
        "if os.path.isdir(action_path):  # Kiểm tra nếu thư mục tồn tại\n",
        "    # Lọc chỉ lấy các thư mục có tên là số (sequence)\n",
        "    valid_sequences = [seq for seq in os.listdir(action_path) if seq.isdigit()]\n",
        "\n",
        "    for sequence in valid_sequences:  # Lặp qua các sequence hợp lệ (có tên là số nguyên)\n",
        "        window = []\n",
        "\n",
        "        # Lặp qua từng frame trong sequence (frame_num = 0 đến sequence_length - 1)\n",
        "        for frame_num in range(sequence_length):\n",
        "            # Tạo đường dẫn đầy đủ tới folder chứa frame\n",
        "            frame_folder = os.path.join(action_path, sequence, f\"frame{frame_num + 1}\")\n",
        "\n",
        "            if os.path.isdir(frame_folder):  # Kiểm tra nếu folder của frame tồn tại\n",
        "                # Tìm tất cả file .npy trong folder frame\n",
        "                npy_files = [f for f in os.listdir(frame_folder) if f.endswith('.npy')]\n",
        "\n",
        "                if npy_files:\n",
        "                    # Chọn file .npy đầu tiên trong danh sách\n",
        "                    npy_file = npy_files[0]\n",
        "                    file_path = os.path.join(frame_folder, npy_files[0])\n",
        "                    frame_landmarks = np.load(file_path)  # Đọc file numpy chứa landmarks\n",
        "                    window.append(frame_landmarks)\n",
        "                    first_letter = npy_file[0].lower()\n",
        "                else:\n",
        "                    print(f\"Không tìm thấy file .npy nào trong thư mục {frame_folder}\")\n",
        "            else:\n",
        "                print(f\"Thư mục {frame_folder} không tồn tại.\")\n",
        "\n",
        "        # Nếu chúng ta có đủ dữ liệu (sequence_length frame), append vào sequences và labels\n",
        "        if len(window) == sequence_length:  # Đảm bảo có đủ frame trong mỗi sequence\n",
        "            sequences.append(window)\n",
        "            labels.append(label_map[first_letter])  # Gán nhãn tương ứng với action\n",
        "\n",
        "else:\n",
        "    print(f\"Thư mục {action_path} không tồn tại.\")  # Nếu thư mục không tồn tại\n",
        "\n",
        "# Chuyển đổi thành numpy arrays\n",
        "X = np.array(sequences)  # Dữ liệu input\n",
        "y = np.array(labels)  # Nhãn tương ứng với action\n",
        "\n",
        "print(\"Dữ liệu đầu vào (X):\", X.shape)\n",
        "print(\"Nhãn (y):\", y.shape)\n",
        "\n",
        "# One-hot encode labels (chuyển labels thành dạng one-hot)\n",
        "y = to_categorical(y, num_classes=len(actions)).astype(int)  # Sử dụng num_classes để xác định số lớp\n",
        "\n",
        "print(\"Nhãn sau khi one-hot encoding:\", y.shape)\n",
        "\n",
        "# (Optional) Chia dữ liệu thành train/test dataset\n",
        "# X_train, X_test, y_train, y_test = train_test_split(X, y, test_size=0.1, random_state=1)\n",
        "# print(\"Dữ liệu train:\", X_train.shape, y_train.shape)\n",
        "# print(\"Dữ liệu test:\", X_test.shape, y_test.shape)\n",
        "# X_train, X_val, y_train, y_val = train_test_split(X_train, y_train, test_size=15/90, random_state=2)\n",
        "\n",
        "# Data test\n",
        "X_test = X;\n",
        "y_test = y;"
      ]
    },
    {
      "cell_type": "code",
      "execution_count": null,
      "metadata": {
        "id": "khxVV4MWW1ag"
      },
      "outputs": [],
      "source": [
        "# Callbacks to be used during neural network training\n",
        "es_callback = EarlyStopping(monitor='val_loss', min_delta=1e-5, patience=10, verbose=0, mode='min')\n",
        "lr_callback = ReduceLROnPlateau(monitor='val_loss', factor=0.2, patience=5, min_lr=0.00001, verbose=0, mode='min')\n",
        "chkpt_callback = ModelCheckpoint(filepath=DATA_PATH + 'model_checkpoint.keras', monitor='val_loss',\n",
        "                                 verbose=0, save_best_only=True, save_weights_only=False,\n",
        "                                 mode='min', save_freq=1)\n",
        "\n",
        "# Optimizer\n",
        "opt = tf.keras.optimizers.Adam(learning_rate=0.01)\n",
        "\n",
        "# some hyperparamters\n",
        "batch_size = 32\n",
        "max_epochs = 500"
      ]
    },
    {
      "cell_type": "markdown",
      "metadata": {
        "id": "gkwMSRv4qYO3"
      },
      "source": [
        "#LSTM"
      ]
    },
    {
      "cell_type": "code",
      "execution_count": null,
      "metadata": {
        "colab": {
          "base_uri": "https://localhost:8080/"
        },
        "id": "n31Ne1Yzqa10",
        "outputId": "dc08ea69-4ccf-4c14-a830-2546ace92016"
      },
      "outputs": [
        {
          "output_type": "stream",
          "name": "stdout",
          "text": [
            "Drive already mounted at /content/drive; to attempt to forcibly remount, call drive.mount(\"/content/drive\", force_remount=True).\n"
          ]
        }
      ],
      "source": [
        "from google.colab import drive\n",
        "drive.mount('/content/drive')"
      ]
    },
    {
      "cell_type": "code",
      "execution_count": null,
      "metadata": {
        "colab": {
          "base_uri": "https://localhost:8080/",
          "height": 395
        },
        "id": "DvmL6BzHqccJ",
        "outputId": "b281b8cc-6746-4721-a16d-508261b4b747"
      },
      "outputs": [
        {
          "output_type": "stream",
          "name": "stderr",
          "text": [
            "/usr/local/lib/python3.10/dist-packages/keras/src/layers/rnn/rnn.py:204: UserWarning: Do not pass an `input_shape`/`input_dim` argument to a layer. When using Sequential models, prefer using an `Input(shape)` object as the first layer in the model instead.\n",
            "  super().__init__(**kwargs)\n"
          ]
        },
        {
          "output_type": "display_data",
          "data": {
            "text/plain": [
              "\u001b[1mModel: \"sequential_5\"\u001b[0m\n"
            ],
            "text/html": [
              "<pre style=\"white-space:pre;overflow-x:auto;line-height:normal;font-family:Menlo,'DejaVu Sans Mono',consolas,'Courier New',monospace\"><span style=\"font-weight: bold\">Model: \"sequential_5\"</span>\n",
              "</pre>\n"
            ]
          },
          "metadata": {}
        },
        {
          "output_type": "display_data",
          "data": {
            "text/plain": [
              "┏━━━━━━━━━━━━━━━━━━━━━━━━━━━━━━━━━━━━━━┳━━━━━━━━━━━━━━━━━━━━━━━━━━━━━┳━━━━━━━━━━━━━━━━━┓\n",
              "┃\u001b[1m \u001b[0m\u001b[1mLayer (type)                        \u001b[0m\u001b[1m \u001b[0m┃\u001b[1m \u001b[0m\u001b[1mOutput Shape               \u001b[0m\u001b[1m \u001b[0m┃\u001b[1m \u001b[0m\u001b[1m        Param #\u001b[0m\u001b[1m \u001b[0m┃\n",
              "┡━━━━━━━━━━━━━━━━━━━━━━━━━━━━━━━━━━━━━━╇━━━━━━━━━━━━━━━━━━━━━━━━━━━━━╇━━━━━━━━━━━━━━━━━┩\n",
              "│ lstm_20 (\u001b[38;5;33mLSTM\u001b[0m)                       │ (\u001b[38;5;45mNone\u001b[0m, \u001b[38;5;34m10\u001b[0m, \u001b[38;5;34m128\u001b[0m)             │          \u001b[38;5;34m90,624\u001b[0m │\n",
              "├──────────────────────────────────────┼─────────────────────────────┼─────────────────┤\n",
              "│ lstm_21 (\u001b[38;5;33mLSTM\u001b[0m)                       │ (\u001b[38;5;45mNone\u001b[0m, \u001b[38;5;34m10\u001b[0m, \u001b[38;5;34m256\u001b[0m)             │         \u001b[38;5;34m394,240\u001b[0m │\n",
              "├──────────────────────────────────────┼─────────────────────────────┼─────────────────┤\n",
              "│ lstm_22 (\u001b[38;5;33mLSTM\u001b[0m)                       │ (\u001b[38;5;45mNone\u001b[0m, \u001b[38;5;34m128\u001b[0m)                 │         \u001b[38;5;34m197,120\u001b[0m │\n",
              "├──────────────────────────────────────┼─────────────────────────────┼─────────────────┤\n",
              "│ dense_30 (\u001b[38;5;33mDense\u001b[0m)                     │ (\u001b[38;5;45mNone\u001b[0m, \u001b[38;5;34m128\u001b[0m)                 │          \u001b[38;5;34m16,512\u001b[0m │\n",
              "├──────────────────────────────────────┼─────────────────────────────┼─────────────────┤\n",
              "│ dense_31 (\u001b[38;5;33mDense\u001b[0m)                     │ (\u001b[38;5;45mNone\u001b[0m, \u001b[38;5;34m64\u001b[0m)                  │           \u001b[38;5;34m8,256\u001b[0m │\n",
              "├──────────────────────────────────────┼─────────────────────────────┼─────────────────┤\n",
              "│ dense_32 (\u001b[38;5;33mDense\u001b[0m)                     │ (\u001b[38;5;45mNone\u001b[0m, \u001b[38;5;34m6\u001b[0m)                   │             \u001b[38;5;34m390\u001b[0m │\n",
              "└──────────────────────────────────────┴─────────────────────────────┴─────────────────┘\n"
            ],
            "text/html": [
              "<pre style=\"white-space:pre;overflow-x:auto;line-height:normal;font-family:Menlo,'DejaVu Sans Mono',consolas,'Courier New',monospace\">┏━━━━━━━━━━━━━━━━━━━━━━━━━━━━━━━━━━━━━━┳━━━━━━━━━━━━━━━━━━━━━━━━━━━━━┳━━━━━━━━━━━━━━━━━┓\n",
              "┃<span style=\"font-weight: bold\"> Layer (type)                         </span>┃<span style=\"font-weight: bold\"> Output Shape                </span>┃<span style=\"font-weight: bold\">         Param # </span>┃\n",
              "┡━━━━━━━━━━━━━━━━━━━━━━━━━━━━━━━━━━━━━━╇━━━━━━━━━━━━━━━━━━━━━━━━━━━━━╇━━━━━━━━━━━━━━━━━┩\n",
              "│ lstm_20 (<span style=\"color: #0087ff; text-decoration-color: #0087ff\">LSTM</span>)                       │ (<span style=\"color: #00d7ff; text-decoration-color: #00d7ff\">None</span>, <span style=\"color: #00af00; text-decoration-color: #00af00\">10</span>, <span style=\"color: #00af00; text-decoration-color: #00af00\">128</span>)             │          <span style=\"color: #00af00; text-decoration-color: #00af00\">90,624</span> │\n",
              "├──────────────────────────────────────┼─────────────────────────────┼─────────────────┤\n",
              "│ lstm_21 (<span style=\"color: #0087ff; text-decoration-color: #0087ff\">LSTM</span>)                       │ (<span style=\"color: #00d7ff; text-decoration-color: #00d7ff\">None</span>, <span style=\"color: #00af00; text-decoration-color: #00af00\">10</span>, <span style=\"color: #00af00; text-decoration-color: #00af00\">256</span>)             │         <span style=\"color: #00af00; text-decoration-color: #00af00\">394,240</span> │\n",
              "├──────────────────────────────────────┼─────────────────────────────┼─────────────────┤\n",
              "│ lstm_22 (<span style=\"color: #0087ff; text-decoration-color: #0087ff\">LSTM</span>)                       │ (<span style=\"color: #00d7ff; text-decoration-color: #00d7ff\">None</span>, <span style=\"color: #00af00; text-decoration-color: #00af00\">128</span>)                 │         <span style=\"color: #00af00; text-decoration-color: #00af00\">197,120</span> │\n",
              "├──────────────────────────────────────┼─────────────────────────────┼─────────────────┤\n",
              "│ dense_30 (<span style=\"color: #0087ff; text-decoration-color: #0087ff\">Dense</span>)                     │ (<span style=\"color: #00d7ff; text-decoration-color: #00d7ff\">None</span>, <span style=\"color: #00af00; text-decoration-color: #00af00\">128</span>)                 │          <span style=\"color: #00af00; text-decoration-color: #00af00\">16,512</span> │\n",
              "├──────────────────────────────────────┼─────────────────────────────┼─────────────────┤\n",
              "│ dense_31 (<span style=\"color: #0087ff; text-decoration-color: #0087ff\">Dense</span>)                     │ (<span style=\"color: #00d7ff; text-decoration-color: #00d7ff\">None</span>, <span style=\"color: #00af00; text-decoration-color: #00af00\">64</span>)                  │           <span style=\"color: #00af00; text-decoration-color: #00af00\">8,256</span> │\n",
              "├──────────────────────────────────────┼─────────────────────────────┼─────────────────┤\n",
              "│ dense_32 (<span style=\"color: #0087ff; text-decoration-color: #0087ff\">Dense</span>)                     │ (<span style=\"color: #00d7ff; text-decoration-color: #00d7ff\">None</span>, <span style=\"color: #00af00; text-decoration-color: #00af00\">6</span>)                   │             <span style=\"color: #00af00; text-decoration-color: #00af00\">390</span> │\n",
              "└──────────────────────────────────────┴─────────────────────────────┴─────────────────┘\n",
              "</pre>\n"
            ]
          },
          "metadata": {}
        },
        {
          "output_type": "display_data",
          "data": {
            "text/plain": [
              "\u001b[1m Total params: \u001b[0m\u001b[38;5;34m707,142\u001b[0m (2.70 MB)\n"
            ],
            "text/html": [
              "<pre style=\"white-space:pre;overflow-x:auto;line-height:normal;font-family:Menlo,'DejaVu Sans Mono',consolas,'Courier New',monospace\"><span style=\"font-weight: bold\"> Total params: </span><span style=\"color: #00af00; text-decoration-color: #00af00\">707,142</span> (2.70 MB)\n",
              "</pre>\n"
            ]
          },
          "metadata": {}
        },
        {
          "output_type": "display_data",
          "data": {
            "text/plain": [
              "\u001b[1m Trainable params: \u001b[0m\u001b[38;5;34m707,142\u001b[0m (2.70 MB)\n"
            ],
            "text/html": [
              "<pre style=\"white-space:pre;overflow-x:auto;line-height:normal;font-family:Menlo,'DejaVu Sans Mono',consolas,'Courier New',monospace\"><span style=\"font-weight: bold\"> Trainable params: </span><span style=\"color: #00af00; text-decoration-color: #00af00\">707,142</span> (2.70 MB)\n",
              "</pre>\n"
            ]
          },
          "metadata": {}
        },
        {
          "output_type": "display_data",
          "data": {
            "text/plain": [
              "\u001b[1m Non-trainable params: \u001b[0m\u001b[38;5;34m0\u001b[0m (0.00 B)\n"
            ],
            "text/html": [
              "<pre style=\"white-space:pre;overflow-x:auto;line-height:normal;font-family:Menlo,'DejaVu Sans Mono',consolas,'Courier New',monospace\"><span style=\"font-weight: bold\"> Non-trainable params: </span><span style=\"color: #00af00; text-decoration-color: #00af00\">0</span> (0.00 B)\n",
              "</pre>\n"
            ]
          },
          "metadata": {}
        },
        {
          "output_type": "stream",
          "name": "stdout",
          "text": [
            "None\n"
          ]
        }
      ],
      "source": [
        "# Set up Tensorboard logging and callbacks\n",
        "NAME = f\"ExerciseRecognition-LSTM-{int(time.time())}\"\n",
        "log_dir = os.path.join(os.getcwd(), 'logs', NAME,'')\n",
        "tb_callback = TensorBoard(log_dir=log_dir)\n",
        "\n",
        "class CustomCallback(tf.keras.callbacks.Callback):\n",
        "  def on_train_begin(self, logs=None):\n",
        "    self.epoch_accuracy = []\n",
        "    self.epoch_loss = []\n",
        "  def on_epoch_end(self, epoch, logs=None):\n",
        "    self.epoch_accuracy.append(logs.get('categorical_accuracy'))\n",
        "    self.epoch_loss.append(logs.get('loss'))\n",
        "\n",
        "custom_callback = CustomCallback()\n",
        "callbacks = [tb_callback, es_callback, lr_callback, chkpt_callback, custom_callback]\n",
        "lstm = Sequential()\n",
        "lstm.add(LSTM(128, return_sequences=True, activation='relu', input_shape=(10, 48))) #(sequence_length, input_number)\n",
        "lstm.add(LSTM(256, return_sequences=True, activation='relu'))\n",
        "lstm.add(LSTM(128, return_sequences=False, activation='relu'))\n",
        "lstm.add(Dense(128, activation='relu'))\n",
        "lstm.add(Dense(64, activation='relu'))\n",
        "actions = np.array(actions)\n",
        "lstm.add(Dense(actions.shape[0], activation='softmax'))\n",
        "print(lstm.summary())"
      ]
    },
    {
      "cell_type": "code",
      "execution_count": null,
      "metadata": {
        "colab": {
          "base_uri": "https://localhost:8080/"
        },
        "id": "PVka1Fy3qmyJ",
        "outputId": "7cf5f102-39ac-4a72-b65d-d4307b0093d4"
      },
      "outputs": [
        {
          "output_type": "stream",
          "name": "stdout",
          "text": [
            "Epoch 1/500\n",
            "\u001b[1m9/9\u001b[0m \u001b[32m━━━━━━━━━━━━━━━━━━━━\u001b[0m\u001b[37m\u001b[0m \u001b[1m13s\u001b[0m 828ms/step - categorical_accuracy: 0.2289 - loss: 2.1416 - val_categorical_accuracy: 0.2115 - val_loss: 1.5759 - learning_rate: 0.0100\n",
            "Epoch 2/500\n",
            "\u001b[1m9/9\u001b[0m \u001b[32m━━━━━━━━━━━━━━━━━━━━\u001b[0m\u001b[37m\u001b[0m \u001b[1m1s\u001b[0m 16ms/step - categorical_accuracy: 0.2280 - loss: 1.5808 - val_categorical_accuracy: 0.1731 - val_loss: 1.5817 - learning_rate: 0.0100\n",
            "Epoch 3/500\n",
            "\u001b[1m9/9\u001b[0m \u001b[32m━━━━━━━━━━━━━━━━━━━━\u001b[0m\u001b[37m\u001b[0m \u001b[1m0s\u001b[0m 16ms/step - categorical_accuracy: 0.2471 - loss: 1.5761 - val_categorical_accuracy: 0.1731 - val_loss: 1.5806 - learning_rate: 0.0100\n",
            "Epoch 4/500\n",
            "\u001b[1m9/9\u001b[0m \u001b[32m━━━━━━━━━━━━━━━━━━━━\u001b[0m\u001b[37m\u001b[0m \u001b[1m0s\u001b[0m 15ms/step - categorical_accuracy: 0.2059 - loss: 1.5494 - val_categorical_accuracy: 0.1731 - val_loss: 1.5950 - learning_rate: 0.0100\n",
            "Epoch 5/500\n",
            "\u001b[1m9/9\u001b[0m \u001b[32m━━━━━━━━━━━━━━━━━━━━\u001b[0m\u001b[37m\u001b[0m \u001b[1m0s\u001b[0m 15ms/step - categorical_accuracy: 0.2054 - loss: 1.5632 - val_categorical_accuracy: 0.2115 - val_loss: 1.5797 - learning_rate: 0.0100\n",
            "Epoch 6/500\n",
            "\u001b[1m9/9\u001b[0m \u001b[32m━━━━━━━━━━━━━━━━━━━━\u001b[0m\u001b[37m\u001b[0m \u001b[1m0s\u001b[0m 15ms/step - categorical_accuracy: 0.2822 - loss: 1.5428 - val_categorical_accuracy: 0.2115 - val_loss: 1.6093 - learning_rate: 0.0100\n",
            "Epoch 7/500\n",
            "\u001b[1m9/9\u001b[0m \u001b[32m━━━━━━━━━━━━━━━━━━━━\u001b[0m\u001b[37m\u001b[0m \u001b[1m0s\u001b[0m 15ms/step - categorical_accuracy: 0.2886 - loss: 1.5396 - val_categorical_accuracy: 0.2115 - val_loss: 1.6058 - learning_rate: 0.0020\n",
            "Epoch 8/500\n",
            "\u001b[1m9/9\u001b[0m \u001b[32m━━━━━━━━━━━━━━━━━━━━\u001b[0m\u001b[37m\u001b[0m \u001b[1m0s\u001b[0m 16ms/step - categorical_accuracy: 0.2788 - loss: 1.5452 - val_categorical_accuracy: 0.2115 - val_loss: 1.6004 - learning_rate: 0.0020\n",
            "Epoch 9/500\n",
            "\u001b[1m9/9\u001b[0m \u001b[32m━━━━━━━━━━━━━━━━━━━━\u001b[0m\u001b[37m\u001b[0m \u001b[1m0s\u001b[0m 15ms/step - categorical_accuracy: 0.3058 - loss: 1.5259 - val_categorical_accuracy: 0.2115 - val_loss: 1.5950 - learning_rate: 0.0020\n",
            "Epoch 10/500\n",
            "\u001b[1m9/9\u001b[0m \u001b[32m━━━━━━━━━━━━━━━━━━━━\u001b[0m\u001b[37m\u001b[0m \u001b[1m0s\u001b[0m 16ms/step - categorical_accuracy: 0.2981 - loss: 1.5163 - val_categorical_accuracy: 0.2115 - val_loss: 1.5907 - learning_rate: 0.0020\n",
            "Epoch 11/500\n",
            "\u001b[1m9/9\u001b[0m \u001b[32m━━━━━━━━━━━━━━━━━━━━\u001b[0m\u001b[37m\u001b[0m \u001b[1m0s\u001b[0m 16ms/step - categorical_accuracy: 0.2722 - loss: 1.5427 - val_categorical_accuracy: 0.2115 - val_loss: 1.5880 - learning_rate: 0.0020\n"
          ]
        },
        {
          "output_type": "execute_result",
          "data": {
            "text/plain": [
              "<keras.src.callbacks.history.History at 0x7dcf5172ed40>"
            ]
          },
          "metadata": {},
          "execution_count": 26
        }
      ],
      "source": [
        "# Recreate the optimizer\n",
        "opt = tf.keras.optimizers.Adam(learning_rate=0.01)\n",
        "\n",
        "# Compile the model\n",
        "lstm.compile(optimizer=opt, loss='categorical_crossentropy', metrics=['categorical_accuracy'])\n",
        "\n",
        "# Train the model\n",
        "lstm.fit(X_train, y_train, batch_size=batch_size, epochs=max_epochs, validation_data=(X_val, y_val), callbacks=[callbacks])"
      ]
    },
    {
      "cell_type": "code",
      "execution_count": null,
      "metadata": {
        "id": "YYSUTvBaLP15",
        "colab": {
          "base_uri": "https://localhost:8080/",
          "height": 388
        },
        "outputId": "39e789d5-651e-4936-dbe1-9b9d4c7577e4"
      },
      "outputs": [
        {
          "output_type": "display_data",
          "data": {
            "text/plain": [
              "<Figure size 1200x400 with 2 Axes>"
            ],
            "image/png": "[encoded data removed]"
          },
          "metadata": {}
        }
      ],
      "source": [
        "plt.figure(figsize=(12, 4))\n",
        "\n",
        "plt.subplot(1, 2, 1)\n",
        "plt.plot(custom_callback.epoch_accuracy, label='Accuracy')\n",
        "plt.xlabel('Epoch')\n",
        "plt.ylabel('Accuracy')\n",
        "plt.legend()\n",
        "\n",
        "plt.subplot(1, 2, 2)\n",
        "plt.plot(custom_callback.epoch_loss, label='Loss')\n",
        "plt.xlabel('Epoch')\n",
        "plt.ylabel('Loss')\n",
        "plt.legend()\n",
        "\n",
        "plt.show()"
      ]
    },
    {
      "cell_type": "markdown",
      "metadata": {
        "id": "HIrW_WoSW64o"
      },
      "source": [
        "#LSTM + Attention"
      ]
    },
    {
      "cell_type": "code",
      "execution_count": null,
      "metadata": {
        "id": "nzZz7-PkW8RG"
      },
      "outputs": [],
      "source": [
        "# Set up Tensorboard logging and callbacks\n",
        "NAME = f\"ExerciseRecognition-AttnLSTM-{int(time.time())}\"\n",
        "log_dir = os.path.join(os.getcwd(), 'logs', NAME,'')\n",
        "tb_callback = TensorBoard(log_dir=log_dir)\n",
        "\n",
        "class CustomCallback(tf.keras.callbacks.Callback):\n",
        "  def on_train_begin(self, logs=None):\n",
        "    self.epoch_accuracy = []\n",
        "    self.epoch_loss = []\n",
        "  def on_epoch_end(self, epoch, logs=None):\n",
        "    self.epoch_accuracy.append(logs.get('categorical_accuracy'))\n",
        "    self.epoch_loss.append(logs.get('loss'))\n",
        "\n",
        "custom_callback = CustomCallback()\n",
        "callbacks = [tb_callback, es_callback, lr_callback, chkpt_callback, custom_callback]"
      ]
    },
    {
      "cell_type": "code",
      "execution_count": null,
      "metadata": {
        "id": "xSgpkKcCW_YP"
      },
      "outputs": [],
      "source": [
        "def attention_block(inputs, time_steps):\n",
        "    \"\"\"\n",
        "    Attention layer for deep neural network\n",
        "\n",
        "    \"\"\"\n",
        "    # Attention weights\n",
        "    a = Permute((2, 1))(inputs)\n",
        "    a = Dense(time_steps, activation='softmax')(a)\n",
        "\n",
        "    # Attention vector\n",
        "    a_probs = Permute((2, 1), name='attention_vec')(a)\n",
        "\n",
        "    # Luong's multiplicative score\n",
        "    output_attention_mul = multiply([inputs, a_probs], name='attention_mul')\n",
        "\n",
        "    return output_attention_mul"
      ]
    },
    {
      "cell_type": "code",
      "execution_count": null,
      "metadata": {
        "colab": {
          "base_uri": "https://localhost:8080/",
          "height": 515
        },
        "id": "0xzyqMkEXBuV",
        "outputId": "28f79012-c0e3-4f7d-d314-f06d4d20644c"
      },
      "outputs": [
        {
          "output_type": "display_data",
          "data": {
            "text/plain": [
              "\u001b[1mModel: \"functional_41\"\u001b[0m\n"
            ],
            "text/html": [
              "<pre style=\"white-space:pre;overflow-x:auto;line-height:normal;font-family:Menlo,'DejaVu Sans Mono',consolas,'Courier New',monospace\"><span style=\"font-weight: bold\">Model: \"functional_41\"</span>\n",
              "</pre>\n"
            ]
          },
          "metadata": {}
        },
        {
          "output_type": "display_data",
          "data": {
            "text/plain": [
              "┏━━━━━━━━━━━━━━━━━━━━━━━━━━━┳━━━━━━━━━━━━━━━━━━━━━━━━┳━━━━━━━━━━━━━━━━┳━━━━━━━━━━━━━━━━━━━━━━━━┓\n",
              "┃\u001b[1m \u001b[0m\u001b[1mLayer (type)             \u001b[0m\u001b[1m \u001b[0m┃\u001b[1m \u001b[0m\u001b[1mOutput Shape          \u001b[0m\u001b[1m \u001b[0m┃\u001b[1m \u001b[0m\u001b[1m       Param #\u001b[0m\u001b[1m \u001b[0m┃\u001b[1m \u001b[0m\u001b[1mConnected to          \u001b[0m\u001b[1m \u001b[0m┃\n",
              "┡━━━━━━━━━━━━━━━━━━━━━━━━━━━╇━━━━━━━━━━━━━━━━━━━━━━━━╇━━━━━━━━━━━━━━━━╇━━━━━━━━━━━━━━━━━━━━━━━━┩\n",
              "│ input_layer_11            │ (\u001b[38;5;45mNone\u001b[0m, \u001b[38;5;34m10\u001b[0m, \u001b[38;5;34m48\u001b[0m)         │              \u001b[38;5;34m0\u001b[0m │ -                      │\n",
              "│ (\u001b[38;5;33mInputLayer\u001b[0m)              │                        │                │                        │\n",
              "├───────────────────────────┼────────────────────────┼────────────────┼────────────────────────┤\n",
              "│ bidirectional_5           │ (\u001b[38;5;45mNone\u001b[0m, \u001b[38;5;34m10\u001b[0m, \u001b[38;5;34m512\u001b[0m)        │        \u001b[38;5;34m624,640\u001b[0m │ input_layer_11[\u001b[38;5;34m0\u001b[0m][\u001b[38;5;34m0\u001b[0m]   │\n",
              "│ (\u001b[38;5;33mBidirectional\u001b[0m)           │                        │                │                        │\n",
              "├───────────────────────────┼────────────────────────┼────────────────┼────────────────────────┤\n",
              "│ permute_5 (\u001b[38;5;33mPermute\u001b[0m)       │ (\u001b[38;5;45mNone\u001b[0m, \u001b[38;5;34m512\u001b[0m, \u001b[38;5;34m10\u001b[0m)        │              \u001b[38;5;34m0\u001b[0m │ bidirectional_5[\u001b[38;5;34m0\u001b[0m][\u001b[38;5;34m0\u001b[0m]  │\n",
              "├───────────────────────────┼────────────────────────┼────────────────┼────────────────────────┤\n",
              "│ dense_33 (\u001b[38;5;33mDense\u001b[0m)          │ (\u001b[38;5;45mNone\u001b[0m, \u001b[38;5;34m512\u001b[0m, \u001b[38;5;34m10\u001b[0m)        │            \u001b[38;5;34m110\u001b[0m │ permute_5[\u001b[38;5;34m0\u001b[0m][\u001b[38;5;34m0\u001b[0m]        │\n",
              "├───────────────────────────┼────────────────────────┼────────────────┼────────────────────────┤\n",
              "│ attention_vec (\u001b[38;5;33mPermute\u001b[0m)   │ (\u001b[38;5;45mNone\u001b[0m, \u001b[38;5;34m10\u001b[0m, \u001b[38;5;34m512\u001b[0m)        │              \u001b[38;5;34m0\u001b[0m │ dense_33[\u001b[38;5;34m0\u001b[0m][\u001b[38;5;34m0\u001b[0m]         │\n",
              "├───────────────────────────┼────────────────────────┼────────────────┼────────────────────────┤\n",
              "│ attention_mul (\u001b[38;5;33mMultiply\u001b[0m)  │ (\u001b[38;5;45mNone\u001b[0m, \u001b[38;5;34m10\u001b[0m, \u001b[38;5;34m512\u001b[0m)        │              \u001b[38;5;34m0\u001b[0m │ bidirectional_5[\u001b[38;5;34m0\u001b[0m][\u001b[38;5;34m0\u001b[0m], │\n",
              "│                           │                        │                │ attention_vec[\u001b[38;5;34m0\u001b[0m][\u001b[38;5;34m0\u001b[0m]    │\n",
              "├───────────────────────────┼────────────────────────┼────────────────┼────────────────────────┤\n",
              "│ flatten_5 (\u001b[38;5;33mFlatten\u001b[0m)       │ (\u001b[38;5;45mNone\u001b[0m, \u001b[38;5;34m5120\u001b[0m)           │              \u001b[38;5;34m0\u001b[0m │ attention_mul[\u001b[38;5;34m0\u001b[0m][\u001b[38;5;34m0\u001b[0m]    │\n",
              "├───────────────────────────┼────────────────────────┼────────────────┼────────────────────────┤\n",
              "│ dense_34 (\u001b[38;5;33mDense\u001b[0m)          │ (\u001b[38;5;45mNone\u001b[0m, \u001b[38;5;34m512\u001b[0m)            │      \u001b[38;5;34m2,621,952\u001b[0m │ flatten_5[\u001b[38;5;34m0\u001b[0m][\u001b[38;5;34m0\u001b[0m]        │\n",
              "├───────────────────────────┼────────────────────────┼────────────────┼────────────────────────┤\n",
              "│ dropout_5 (\u001b[38;5;33mDropout\u001b[0m)       │ (\u001b[38;5;45mNone\u001b[0m, \u001b[38;5;34m512\u001b[0m)            │              \u001b[38;5;34m0\u001b[0m │ dense_34[\u001b[38;5;34m0\u001b[0m][\u001b[38;5;34m0\u001b[0m]         │\n",
              "├───────────────────────────┼────────────────────────┼────────────────┼────────────────────────┤\n",
              "│ dense_35 (\u001b[38;5;33mDense\u001b[0m)          │ (\u001b[38;5;45mNone\u001b[0m, \u001b[38;5;34m6\u001b[0m)              │          \u001b[38;5;34m3,078\u001b[0m │ dropout_5[\u001b[38;5;34m0\u001b[0m][\u001b[38;5;34m0\u001b[0m]        │\n",
              "└───────────────────────────┴────────────────────────┴────────────────┴────────────────────────┘\n"
            ],
            "text/html": [
              "<pre style=\"white-space:pre;overflow-x:auto;line-height:normal;font-family:Menlo,'DejaVu Sans Mono',consolas,'Courier New',monospace\">┏━━━━━━━━━━━━━━━━━━━━━━━━━━━┳━━━━━━━━━━━━━━━━━━━━━━━━┳━━━━━━━━━━━━━━━━┳━━━━━━━━━━━━━━━━━━━━━━━━┓\n",
              "┃<span style=\"font-weight: bold\"> Layer (type)              </span>┃<span style=\"font-weight: bold\"> Output Shape           </span>┃<span style=\"font-weight: bold\">        Param # </span>┃<span style=\"font-weight: bold\"> Connected to           </span>┃\n",
              "┡━━━━━━━━━━━━━━━━━━━━━━━━━━━╇━━━━━━━━━━━━━━━━━━━━━━━━╇━━━━━━━━━━━━━━━━╇━━━━━━━━━━━━━━━━━━━━━━━━┩\n",
              "│ input_layer_11            │ (<span style=\"color: #00d7ff; text-decoration-color: #00d7ff\">None</span>, <span style=\"color: #00af00; text-decoration-color: #00af00\">10</span>, <span style=\"color: #00af00; text-decoration-color: #00af00\">48</span>)         │              <span style=\"color: #00af00; text-decoration-color: #00af00\">0</span> │ -                      │\n",
              "│ (<span style=\"color: #0087ff; text-decoration-color: #0087ff\">InputLayer</span>)              │                        │                │                        │\n",
              "├───────────────────────────┼────────────────────────┼────────────────┼────────────────────────┤\n",
              "│ bidirectional_5           │ (<span style=\"color: #00d7ff; text-decoration-color: #00d7ff\">None</span>, <span style=\"color: #00af00; text-decoration-color: #00af00\">10</span>, <span style=\"color: #00af00; text-decoration-color: #00af00\">512</span>)        │        <span style=\"color: #00af00; text-decoration-color: #00af00\">624,640</span> │ input_layer_11[<span style=\"color: #00af00; text-decoration-color: #00af00\">0</span>][<span style=\"color: #00af00; text-decoration-color: #00af00\">0</span>]   │\n",
              "│ (<span style=\"color: #0087ff; text-decoration-color: #0087ff\">Bidirectional</span>)           │                        │                │                        │\n",
              "├───────────────────────────┼────────────────────────┼────────────────┼────────────────────────┤\n",
              "│ permute_5 (<span style=\"color: #0087ff; text-decoration-color: #0087ff\">Permute</span>)       │ (<span style=\"color: #00d7ff; text-decoration-color: #00d7ff\">None</span>, <span style=\"color: #00af00; text-decoration-color: #00af00\">512</span>, <span style=\"color: #00af00; text-decoration-color: #00af00\">10</span>)        │              <span style=\"color: #00af00; text-decoration-color: #00af00\">0</span> │ bidirectional_5[<span style=\"color: #00af00; text-decoration-color: #00af00\">0</span>][<span style=\"color: #00af00; text-decoration-color: #00af00\">0</span>]  │\n",
              "├───────────────────────────┼────────────────────────┼────────────────┼────────────────────────┤\n",
              "│ dense_33 (<span style=\"color: #0087ff; text-decoration-color: #0087ff\">Dense</span>)          │ (<span style=\"color: #00d7ff; text-decoration-color: #00d7ff\">None</span>, <span style=\"color: #00af00; text-decoration-color: #00af00\">512</span>, <span style=\"color: #00af00; text-decoration-color: #00af00\">10</span>)        │            <span style=\"color: #00af00; text-decoration-color: #00af00\">110</span> │ permute_5[<span style=\"color: #00af00; text-decoration-color: #00af00\">0</span>][<span style=\"color: #00af00; text-decoration-color: #00af00\">0</span>]        │\n",
              "├───────────────────────────┼────────────────────────┼────────────────┼────────────────────────┤\n",
              "│ attention_vec (<span style=\"color: #0087ff; text-decoration-color: #0087ff\">Permute</span>)   │ (<span style=\"color: #00d7ff; text-decoration-color: #00d7ff\">None</span>, <span style=\"color: #00af00; text-decoration-color: #00af00\">10</span>, <span style=\"color: #00af00; text-decoration-color: #00af00\">512</span>)        │              <span style=\"color: #00af00; text-decoration-color: #00af00\">0</span> │ dense_33[<span style=\"color: #00af00; text-decoration-color: #00af00\">0</span>][<span style=\"color: #00af00; text-decoration-color: #00af00\">0</span>]         │\n",
              "├───────────────────────────┼────────────────────────┼────────────────┼────────────────────────┤\n",
              "│ attention_mul (<span style=\"color: #0087ff; text-decoration-color: #0087ff\">Multiply</span>)  │ (<span style=\"color: #00d7ff; text-decoration-color: #00d7ff\">None</span>, <span style=\"color: #00af00; text-decoration-color: #00af00\">10</span>, <span style=\"color: #00af00; text-decoration-color: #00af00\">512</span>)        │              <span style=\"color: #00af00; text-decoration-color: #00af00\">0</span> │ bidirectional_5[<span style=\"color: #00af00; text-decoration-color: #00af00\">0</span>][<span style=\"color: #00af00; text-decoration-color: #00af00\">0</span>], │\n",
              "│                           │                        │                │ attention_vec[<span style=\"color: #00af00; text-decoration-color: #00af00\">0</span>][<span style=\"color: #00af00; text-decoration-color: #00af00\">0</span>]    │\n",
              "├───────────────────────────┼────────────────────────┼────────────────┼────────────────────────┤\n",
              "│ flatten_5 (<span style=\"color: #0087ff; text-decoration-color: #0087ff\">Flatten</span>)       │ (<span style=\"color: #00d7ff; text-decoration-color: #00d7ff\">None</span>, <span style=\"color: #00af00; text-decoration-color: #00af00\">5120</span>)           │              <span style=\"color: #00af00; text-decoration-color: #00af00\">0</span> │ attention_mul[<span style=\"color: #00af00; text-decoration-color: #00af00\">0</span>][<span style=\"color: #00af00; text-decoration-color: #00af00\">0</span>]    │\n",
              "├───────────────────────────┼────────────────────────┼────────────────┼────────────────────────┤\n",
              "│ dense_34 (<span style=\"color: #0087ff; text-decoration-color: #0087ff\">Dense</span>)          │ (<span style=\"color: #00d7ff; text-decoration-color: #00d7ff\">None</span>, <span style=\"color: #00af00; text-decoration-color: #00af00\">512</span>)            │      <span style=\"color: #00af00; text-decoration-color: #00af00\">2,621,952</span> │ flatten_5[<span style=\"color: #00af00; text-decoration-color: #00af00\">0</span>][<span style=\"color: #00af00; text-decoration-color: #00af00\">0</span>]        │\n",
              "├───────────────────────────┼────────────────────────┼────────────────┼────────────────────────┤\n",
              "│ dropout_5 (<span style=\"color: #0087ff; text-decoration-color: #0087ff\">Dropout</span>)       │ (<span style=\"color: #00d7ff; text-decoration-color: #00d7ff\">None</span>, <span style=\"color: #00af00; text-decoration-color: #00af00\">512</span>)            │              <span style=\"color: #00af00; text-decoration-color: #00af00\">0</span> │ dense_34[<span style=\"color: #00af00; text-decoration-color: #00af00\">0</span>][<span style=\"color: #00af00; text-decoration-color: #00af00\">0</span>]         │\n",
              "├───────────────────────────┼────────────────────────┼────────────────┼────────────────────────┤\n",
              "│ dense_35 (<span style=\"color: #0087ff; text-decoration-color: #0087ff\">Dense</span>)          │ (<span style=\"color: #00d7ff; text-decoration-color: #00d7ff\">None</span>, <span style=\"color: #00af00; text-decoration-color: #00af00\">6</span>)              │          <span style=\"color: #00af00; text-decoration-color: #00af00\">3,078</span> │ dropout_5[<span style=\"color: #00af00; text-decoration-color: #00af00\">0</span>][<span style=\"color: #00af00; text-decoration-color: #00af00\">0</span>]        │\n",
              "└───────────────────────────┴────────────────────────┴────────────────┴────────────────────────┘\n",
              "</pre>\n"
            ]
          },
          "metadata": {}
        },
        {
          "output_type": "display_data",
          "data": {
            "text/plain": [
              "\u001b[1m Total params: \u001b[0m\u001b[38;5;34m3,249,780\u001b[0m (12.40 MB)\n"
            ],
            "text/html": [
              "<pre style=\"white-space:pre;overflow-x:auto;line-height:normal;font-family:Menlo,'DejaVu Sans Mono',consolas,'Courier New',monospace\"><span style=\"font-weight: bold\"> Total params: </span><span style=\"color: #00af00; text-decoration-color: #00af00\">3,249,780</span> (12.40 MB)\n",
              "</pre>\n"
            ]
          },
          "metadata": {}
        },
        {
          "output_type": "display_data",
          "data": {
            "text/plain": [
              "\u001b[1m Trainable params: \u001b[0m\u001b[38;5;34m3,249,780\u001b[0m (12.40 MB)\n"
            ],
            "text/html": [
              "<pre style=\"white-space:pre;overflow-x:auto;line-height:normal;font-family:Menlo,'DejaVu Sans Mono',consolas,'Courier New',monospace\"><span style=\"font-weight: bold\"> Trainable params: </span><span style=\"color: #00af00; text-decoration-color: #00af00\">3,249,780</span> (12.40 MB)\n",
              "</pre>\n"
            ]
          },
          "metadata": {}
        },
        {
          "output_type": "display_data",
          "data": {
            "text/plain": [
              "\u001b[1m Non-trainable params: \u001b[0m\u001b[38;5;34m0\u001b[0m (0.00 B)\n"
            ],
            "text/html": [
              "<pre style=\"white-space:pre;overflow-x:auto;line-height:normal;font-family:Menlo,'DejaVu Sans Mono',consolas,'Courier New',monospace\"><span style=\"font-weight: bold\"> Non-trainable params: </span><span style=\"color: #00af00; text-decoration-color: #00af00\">0</span> (0.00 B)\n",
              "</pre>\n"
            ]
          },
          "metadata": {}
        },
        {
          "output_type": "stream",
          "name": "stdout",
          "text": [
            "None\n"
          ]
        }
      ],
      "source": [
        "HIDDEN_UNITS = 256\n",
        "\n",
        "# Input\n",
        "inputs = Input(shape=(10, 48)) #(sequence_length, input_number)\n",
        "\n",
        "# Bi-LSTM\n",
        "lstm_out = Bidirectional(LSTM(HIDDEN_UNITS, return_sequences=True))(inputs)\n",
        "\n",
        "# Attention\n",
        "attention_mul = attention_block(lstm_out, 10) #sequence length\n",
        "attention_mul = Flatten()(attention_mul)\n",
        "\n",
        "# Fully Connected Layer\n",
        "x = Dense(2*HIDDEN_UNITS, activation='relu')(attention_mul)\n",
        "x = Dropout(0.5)(x)\n",
        "\n",
        "# Output\n",
        "x = Dense(actions.shape[0], activation='softmax')(x)\n",
        "\n",
        "# Bring it all together\n",
        "AttnLSTM = Model(inputs=[inputs], outputs=x)\n",
        "print(AttnLSTM.summary())"
      ]
    },
    {
      "cell_type": "code",
      "execution_count": null,
      "metadata": {
        "colab": {
          "base_uri": "https://localhost:8080/"
        },
        "id": "gsk2ADW1XGgt",
        "outputId": "25ed8529-6e7e-46d9-b5ba-cf6a66742feb"
      },
      "outputs": [
        {
          "output_type": "stream",
          "name": "stdout",
          "text": [
            "Epoch 1/500\n",
            "\u001b[1m9/9\u001b[0m \u001b[32m━━━━━━━━━━━━━━━━━━━━\u001b[0m\u001b[37m\u001b[0m \u001b[1m3s\u001b[0m 52ms/step - categorical_accuracy: 0.1799 - loss: 1.8927 - val_categorical_accuracy: 0.3654 - val_loss: 2.2142 - learning_rate: 0.0100\n",
            "Epoch 2/500\n",
            "\u001b[1m9/9\u001b[0m \u001b[32m━━━━━━━━━━━━━━━━━━━━\u001b[0m\u001b[37m\u001b[0m \u001b[1m0s\u001b[0m 15ms/step - categorical_accuracy: 0.2720 - loss: 1.6523 - val_categorical_accuracy: 0.2115 - val_loss: 1.7054 - learning_rate: 0.0100\n",
            "Epoch 3/500\n",
            "\u001b[1m9/9\u001b[0m \u001b[32m━━━━━━━━━━━━━━━━━━━━\u001b[0m\u001b[37m\u001b[0m \u001b[1m0s\u001b[0m 15ms/step - categorical_accuracy: 0.2494 - loss: 1.5874 - val_categorical_accuracy: 0.2500 - val_loss: 1.5942 - learning_rate: 0.0100\n",
            "Epoch 4/500\n",
            "\u001b[1m9/9\u001b[0m \u001b[32m━━━━━━━━━━━━━━━━━━━━\u001b[0m\u001b[37m\u001b[0m \u001b[1m0s\u001b[0m 15ms/step - categorical_accuracy: 0.2843 - loss: 1.5257 - val_categorical_accuracy: 0.3077 - val_loss: 1.5493 - learning_rate: 0.0100\n",
            "Epoch 5/500\n",
            "\u001b[1m9/9\u001b[0m \u001b[32m━━━━━━━━━━━━━━━━━━━━\u001b[0m\u001b[37m\u001b[0m \u001b[1m0s\u001b[0m 16ms/step - categorical_accuracy: 0.2846 - loss: 1.5166 - val_categorical_accuracy: 0.1923 - val_loss: 1.8035 - learning_rate: 0.0100\n",
            "Epoch 6/500\n",
            "\u001b[1m9/9\u001b[0m \u001b[32m━━━━━━━━━━━━━━━━━━━━\u001b[0m\u001b[37m\u001b[0m \u001b[1m0s\u001b[0m 18ms/step - categorical_accuracy: 0.3285 - loss: 1.4817 - val_categorical_accuracy: 0.2885 - val_loss: 1.7827 - learning_rate: 0.0100\n",
            "Epoch 7/500\n",
            "\u001b[1m9/9\u001b[0m \u001b[32m━━━━━━━━━━━━━━━━━━━━\u001b[0m\u001b[37m\u001b[0m \u001b[1m0s\u001b[0m 17ms/step - categorical_accuracy: 0.4174 - loss: 1.2961 - val_categorical_accuracy: 0.3654 - val_loss: 1.5312 - learning_rate: 0.0100\n",
            "Epoch 8/500\n",
            "\u001b[1m9/9\u001b[0m \u001b[32m━━━━━━━━━━━━━━━━━━━━\u001b[0m\u001b[37m\u001b[0m \u001b[1m0s\u001b[0m 14ms/step - categorical_accuracy: 0.3576 - loss: 1.5051 - val_categorical_accuracy: 0.2115 - val_loss: 1.5435 - learning_rate: 0.0100\n",
            "Epoch 9/500\n",
            "\u001b[1m9/9\u001b[0m \u001b[32m━━━━━━━━━━━━━━━━━━━━\u001b[0m\u001b[37m\u001b[0m \u001b[1m0s\u001b[0m 14ms/step - categorical_accuracy: 0.3887 - loss: 1.3459 - val_categorical_accuracy: 0.4038 - val_loss: 1.3844 - learning_rate: 0.0100\n",
            "Epoch 10/500\n",
            "\u001b[1m9/9\u001b[0m \u001b[32m━━━━━━━━━━━━━━━━━━━━\u001b[0m\u001b[37m\u001b[0m \u001b[1m0s\u001b[0m 15ms/step - categorical_accuracy: 0.3779 - loss: 1.3137 - val_categorical_accuracy: 0.2692 - val_loss: 1.6639 - learning_rate: 0.0100\n",
            "Epoch 11/500\n",
            "\u001b[1m9/9\u001b[0m \u001b[32m━━━━━━━━━━━━━━━━━━━━\u001b[0m\u001b[37m\u001b[0m \u001b[1m0s\u001b[0m 14ms/step - categorical_accuracy: 0.4546 - loss: 1.2429 - val_categorical_accuracy: 0.3462 - val_loss: 1.3218 - learning_rate: 0.0100\n",
            "Epoch 12/500\n",
            "\u001b[1m9/9\u001b[0m \u001b[32m━━━━━━━━━━━━━━━━━━━━\u001b[0m\u001b[37m\u001b[0m \u001b[1m0s\u001b[0m 15ms/step - categorical_accuracy: 0.4261 - loss: 1.3365 - val_categorical_accuracy: 0.2500 - val_loss: 1.5020 - learning_rate: 0.0100\n",
            "Epoch 13/500\n",
            "\u001b[1m9/9\u001b[0m \u001b[32m━━━━━━━━━━━━━━━━━━━━\u001b[0m\u001b[37m\u001b[0m \u001b[1m0s\u001b[0m 14ms/step - categorical_accuracy: 0.3949 - loss: 1.4250 - val_categorical_accuracy: 0.3462 - val_loss: 1.4182 - learning_rate: 0.0100\n",
            "Epoch 14/500\n",
            "\u001b[1m9/9\u001b[0m \u001b[32m━━━━━━━━━━━━━━━━━━━━\u001b[0m\u001b[37m\u001b[0m \u001b[1m0s\u001b[0m 16ms/step - categorical_accuracy: 0.3738 - loss: 1.3462 - val_categorical_accuracy: 0.4231 - val_loss: 1.2694 - learning_rate: 0.0100\n",
            "Epoch 15/500\n",
            "\u001b[1m9/9\u001b[0m \u001b[32m━━━━━━━━━━━━━━━━━━━━\u001b[0m\u001b[37m\u001b[0m \u001b[1m0s\u001b[0m 17ms/step - categorical_accuracy: 0.4799 - loss: 1.2025 - val_categorical_accuracy: 0.4038 - val_loss: 1.2866 - learning_rate: 0.0100\n",
            "Epoch 16/500\n",
            "\u001b[1m9/9\u001b[0m \u001b[32m━━━━━━━━━━━━━━━━━━━━\u001b[0m\u001b[37m\u001b[0m \u001b[1m0s\u001b[0m 15ms/step - categorical_accuracy: 0.5207 - loss: 1.1353 - val_categorical_accuracy: 0.4038 - val_loss: 1.3040 - learning_rate: 0.0100\n",
            "Epoch 17/500\n",
            "\u001b[1m9/9\u001b[0m \u001b[32m━━━━━━━━━━━━━━━━━━━━\u001b[0m\u001b[37m\u001b[0m \u001b[1m0s\u001b[0m 15ms/step - categorical_accuracy: 0.4733 - loss: 1.2242 - val_categorical_accuracy: 0.4423 - val_loss: 1.2940 - learning_rate: 0.0100\n",
            "Epoch 18/500\n",
            "\u001b[1m9/9\u001b[0m \u001b[32m━━━━━━━━━━━━━━━━━━━━\u001b[0m\u001b[37m\u001b[0m \u001b[1m0s\u001b[0m 17ms/step - categorical_accuracy: 0.4832 - loss: 1.1579 - val_categorical_accuracy: 0.4615 - val_loss: 1.1645 - learning_rate: 0.0100\n",
            "Epoch 19/500\n",
            "\u001b[1m9/9\u001b[0m \u001b[32m━━━━━━━━━━━━━━━━━━━━\u001b[0m\u001b[37m\u001b[0m \u001b[1m0s\u001b[0m 14ms/step - categorical_accuracy: 0.5138 - loss: 1.0502 - val_categorical_accuracy: 0.4423 - val_loss: 1.2089 - learning_rate: 0.0100\n",
            "Epoch 20/500\n",
            "\u001b[1m9/9\u001b[0m \u001b[32m━━━━━━━━━━━━━━━━━━━━\u001b[0m\u001b[37m\u001b[0m \u001b[1m0s\u001b[0m 14ms/step - categorical_accuracy: 0.5595 - loss: 1.0884 - val_categorical_accuracy: 0.4423 - val_loss: 1.3772 - learning_rate: 0.0100\n",
            "Epoch 21/500\n",
            "\u001b[1m9/9\u001b[0m \u001b[32m━━━━━━━━━━━━━━━━━━━━\u001b[0m\u001b[37m\u001b[0m \u001b[1m0s\u001b[0m 14ms/step - categorical_accuracy: 0.4518 - loss: 1.1800 - val_categorical_accuracy: 0.3077 - val_loss: 1.9028 - learning_rate: 0.0100\n",
            "Epoch 22/500\n",
            "\u001b[1m9/9\u001b[0m \u001b[32m━━━━━━━━━━━━━━━━━━━━\u001b[0m\u001b[37m\u001b[0m \u001b[1m0s\u001b[0m 17ms/step - categorical_accuracy: 0.4237 - loss: 1.3577 - val_categorical_accuracy: 0.4615 - val_loss: 1.3109 - learning_rate: 0.0100\n",
            "Epoch 23/500\n",
            "\u001b[1m9/9\u001b[0m \u001b[32m━━━━━━━━━━━━━━━━━━━━\u001b[0m\u001b[37m\u001b[0m \u001b[1m0s\u001b[0m 19ms/step - categorical_accuracy: 0.4798 - loss: 1.3403 - val_categorical_accuracy: 0.3269 - val_loss: 1.4672 - learning_rate: 0.0100\n",
            "Epoch 24/500\n",
            "\u001b[1m9/9\u001b[0m \u001b[32m━━━━━━━━━━━━━━━━━━━━\u001b[0m\u001b[37m\u001b[0m \u001b[1m0s\u001b[0m 17ms/step - categorical_accuracy: 0.4954 - loss: 1.2521 - val_categorical_accuracy: 0.4038 - val_loss: 1.2609 - learning_rate: 0.0020\n",
            "Epoch 25/500\n",
            "\u001b[1m9/9\u001b[0m \u001b[32m━━━━━━━━━━━━━━━━━━━━\u001b[0m\u001b[37m\u001b[0m \u001b[1m0s\u001b[0m 20ms/step - categorical_accuracy: 0.5249 - loss: 1.1370 - val_categorical_accuracy: 0.4038 - val_loss: 1.2156 - learning_rate: 0.0020\n",
            "Epoch 26/500\n",
            "\u001b[1m9/9\u001b[0m \u001b[32m━━━━━━━━━━━━━━━━━━━━\u001b[0m\u001b[37m\u001b[0m \u001b[1m0s\u001b[0m 18ms/step - categorical_accuracy: 0.5181 - loss: 1.1094 - val_categorical_accuracy: 0.4808 - val_loss: 1.1514 - learning_rate: 0.0020\n",
            "Epoch 27/500\n",
            "\u001b[1m9/9\u001b[0m \u001b[32m━━━━━━━━━━━━━━━━━━━━\u001b[0m\u001b[37m\u001b[0m \u001b[1m0s\u001b[0m 23ms/step - categorical_accuracy: 0.6556 - loss: 0.9493 - val_categorical_accuracy: 0.4808 - val_loss: 1.1339 - learning_rate: 0.0020\n",
            "Epoch 28/500\n",
            "\u001b[1m9/9\u001b[0m \u001b[32m━━━━━━━━━━━━━━━━━━━━\u001b[0m\u001b[37m\u001b[0m \u001b[1m0s\u001b[0m 22ms/step - categorical_accuracy: 0.6256 - loss: 0.9563 - val_categorical_accuracy: 0.4615 - val_loss: 1.1407 - learning_rate: 0.0020\n",
            "Epoch 29/500\n",
            "\u001b[1m9/9\u001b[0m \u001b[32m━━━━━━━━━━━━━━━━━━━━\u001b[0m\u001b[37m\u001b[0m \u001b[1m0s\u001b[0m 20ms/step - categorical_accuracy: 0.5740 - loss: 0.9885 - val_categorical_accuracy: 0.4808 - val_loss: 1.0757 - learning_rate: 0.0020\n",
            "Epoch 30/500\n",
            "\u001b[1m9/9\u001b[0m \u001b[32m━━━━━━━━━━━━━━━━━━━━\u001b[0m\u001b[37m\u001b[0m \u001b[1m0s\u001b[0m 20ms/step - categorical_accuracy: 0.6849 - loss: 0.8597 - val_categorical_accuracy: 0.4423 - val_loss: 1.0792 - learning_rate: 0.0020\n",
            "Epoch 31/500\n",
            "\u001b[1m9/9\u001b[0m \u001b[32m━━━━━━━━━━━━━━━━━━━━\u001b[0m\u001b[37m\u001b[0m \u001b[1m0s\u001b[0m 21ms/step - categorical_accuracy: 0.6904 - loss: 0.8434 - val_categorical_accuracy: 0.4615 - val_loss: 1.1447 - learning_rate: 0.0020\n",
            "Epoch 32/500\n",
            "\u001b[1m9/9\u001b[0m \u001b[32m━━━━━━━━━━━━━━━━━━━━\u001b[0m\u001b[37m\u001b[0m \u001b[1m0s\u001b[0m 21ms/step - categorical_accuracy: 0.5939 - loss: 0.9508 - val_categorical_accuracy: 0.5385 - val_loss: 1.0579 - learning_rate: 0.0020\n",
            "Epoch 33/500\n",
            "\u001b[1m9/9\u001b[0m \u001b[32m━━━━━━━━━━━━━━━━━━━━\u001b[0m\u001b[37m\u001b[0m \u001b[1m0s\u001b[0m 21ms/step - categorical_accuracy: 0.6752 - loss: 0.8729 - val_categorical_accuracy: 0.5385 - val_loss: 1.0473 - learning_rate: 0.0020\n",
            "Epoch 34/500\n",
            "\u001b[1m9/9\u001b[0m \u001b[32m━━━━━━━━━━━━━━━━━━━━\u001b[0m\u001b[37m\u001b[0m \u001b[1m0s\u001b[0m 26ms/step - categorical_accuracy: 0.6718 - loss: 0.8513 - val_categorical_accuracy: 0.4423 - val_loss: 1.1038 - learning_rate: 0.0020\n",
            "Epoch 35/500\n",
            "\u001b[1m9/9\u001b[0m \u001b[32m━━━━━━━━━━━━━━━━━━━━\u001b[0m\u001b[37m\u001b[0m \u001b[1m0s\u001b[0m 25ms/step - categorical_accuracy: 0.6417 - loss: 0.8535 - val_categorical_accuracy: 0.5577 - val_loss: 0.9809 - learning_rate: 0.0020\n",
            "Epoch 36/500\n",
            "\u001b[1m9/9\u001b[0m \u001b[32m━━━━━━━━━━━━━━━━━━━━\u001b[0m\u001b[37m\u001b[0m \u001b[1m0s\u001b[0m 21ms/step - categorical_accuracy: 0.6990 - loss: 0.7514 - val_categorical_accuracy: 0.5385 - val_loss: 1.0543 - learning_rate: 0.0020\n",
            "Epoch 37/500\n",
            "\u001b[1m9/9\u001b[0m \u001b[32m━━━━━━━━━━━━━━━━━━━━\u001b[0m\u001b[37m\u001b[0m \u001b[1m0s\u001b[0m 16ms/step - categorical_accuracy: 0.6232 - loss: 0.9209 - val_categorical_accuracy: 0.4808 - val_loss: 1.1050 - learning_rate: 0.0020\n",
            "Epoch 38/500\n",
            "\u001b[1m9/9\u001b[0m \u001b[32m━━━━━━━━━━━━━━━━━━━━\u001b[0m\u001b[37m\u001b[0m \u001b[1m0s\u001b[0m 18ms/step - categorical_accuracy: 0.6869 - loss: 0.7870 - val_categorical_accuracy: 0.6346 - val_loss: 1.0413 - learning_rate: 0.0020\n",
            "Epoch 39/500\n",
            "\u001b[1m9/9\u001b[0m \u001b[32m━━━━━━━━━━━━━━━━━━━━\u001b[0m\u001b[37m\u001b[0m \u001b[1m0s\u001b[0m 15ms/step - categorical_accuracy: 0.6834 - loss: 0.7560 - val_categorical_accuracy: 0.4423 - val_loss: 1.2904 - learning_rate: 0.0020\n",
            "Epoch 40/500\n",
            "\u001b[1m9/9\u001b[0m \u001b[32m━━━━━━━━━━━━━━━━━━━━\u001b[0m\u001b[37m\u001b[0m \u001b[1m0s\u001b[0m 16ms/step - categorical_accuracy: 0.6620 - loss: 0.8634 - val_categorical_accuracy: 0.4808 - val_loss: 1.0484 - learning_rate: 0.0020\n",
            "Epoch 41/500\n",
            "\u001b[1m9/9\u001b[0m \u001b[32m━━━━━━━━━━━━━━━━━━━━\u001b[0m\u001b[37m\u001b[0m \u001b[1m0s\u001b[0m 16ms/step - categorical_accuracy: 0.6032 - loss: 0.8530 - val_categorical_accuracy: 0.5962 - val_loss: 0.9670 - learning_rate: 4.0000e-04\n",
            "Epoch 42/500\n",
            "\u001b[1m9/9\u001b[0m \u001b[32m━━━━━━━━━━━━━━━━━━━━\u001b[0m\u001b[37m\u001b[0m \u001b[1m0s\u001b[0m 14ms/step - categorical_accuracy: 0.7268 - loss: 0.7068 - val_categorical_accuracy: 0.5769 - val_loss: 0.9654 - learning_rate: 4.0000e-04\n",
            "Epoch 43/500\n",
            "\u001b[1m9/9\u001b[0m \u001b[32m━━━━━━━━━━━━━━━━━━━━\u001b[0m\u001b[37m\u001b[0m \u001b[1m0s\u001b[0m 16ms/step - categorical_accuracy: 0.7348 - loss: 0.6612 - val_categorical_accuracy: 0.5577 - val_loss: 0.9395 - learning_rate: 4.0000e-04\n",
            "Epoch 44/500\n",
            "\u001b[1m9/9\u001b[0m \u001b[32m━━━━━━━━━━━━━━━━━━━━\u001b[0m\u001b[37m\u001b[0m \u001b[1m0s\u001b[0m 16ms/step - categorical_accuracy: 0.7654 - loss: 0.7077 - val_categorical_accuracy: 0.6154 - val_loss: 0.9024 - learning_rate: 4.0000e-04\n",
            "Epoch 45/500\n",
            "\u001b[1m9/9\u001b[0m \u001b[32m━━━━━━━━━━━━━━━━━━━━\u001b[0m\u001b[37m\u001b[0m \u001b[1m0s\u001b[0m 16ms/step - categorical_accuracy: 0.7776 - loss: 0.6323 - val_categorical_accuracy: 0.6346 - val_loss: 0.8750 - learning_rate: 4.0000e-04\n",
            "Epoch 46/500\n",
            "\u001b[1m9/9\u001b[0m \u001b[32m━━━━━━━━━━━━━━━━━━━━\u001b[0m\u001b[37m\u001b[0m \u001b[1m0s\u001b[0m 16ms/step - categorical_accuracy: 0.7669 - loss: 0.6006 - val_categorical_accuracy: 0.6923 - val_loss: 0.8494 - learning_rate: 4.0000e-04\n",
            "Epoch 47/500\n",
            "\u001b[1m9/9\u001b[0m \u001b[32m━━━━━━━━━━━━━━━━━━━━\u001b[0m\u001b[37m\u001b[0m \u001b[1m0s\u001b[0m 17ms/step - categorical_accuracy: 0.7536 - loss: 0.6389 - val_categorical_accuracy: 0.6154 - val_loss: 0.8422 - learning_rate: 4.0000e-04\n",
            "Epoch 48/500\n",
            "\u001b[1m9/9\u001b[0m \u001b[32m━━━━━━━━━━━━━━━━━━━━\u001b[0m\u001b[37m\u001b[0m \u001b[1m0s\u001b[0m 17ms/step - categorical_accuracy: 0.7659 - loss: 0.6262 - val_categorical_accuracy: 0.6538 - val_loss: 0.8249 - learning_rate: 4.0000e-04\n",
            "Epoch 49/500\n",
            "\u001b[1m9/9\u001b[0m \u001b[32m━━━━━━━━━━━━━━━━━━━━\u001b[0m\u001b[37m\u001b[0m \u001b[1m0s\u001b[0m 15ms/step - categorical_accuracy: 0.8019 - loss: 0.5352 - val_categorical_accuracy: 0.7308 - val_loss: 0.8001 - learning_rate: 4.0000e-04\n",
            "Epoch 50/500\n",
            "\u001b[1m9/9\u001b[0m \u001b[32m━━━━━━━━━━━━━━━━━━━━\u001b[0m\u001b[37m\u001b[0m \u001b[1m0s\u001b[0m 15ms/step - categorical_accuracy: 0.7519 - loss: 0.6080 - val_categorical_accuracy: 0.6731 - val_loss: 0.8494 - learning_rate: 4.0000e-04\n",
            "Epoch 51/500\n",
            "\u001b[1m9/9\u001b[0m \u001b[32m━━━━━━━━━━━━━━━━━━━━\u001b[0m\u001b[37m\u001b[0m \u001b[1m0s\u001b[0m 17ms/step - categorical_accuracy: 0.7415 - loss: 0.6523 - val_categorical_accuracy: 0.7115 - val_loss: 0.7872 - learning_rate: 4.0000e-04\n",
            "Epoch 52/500\n",
            "\u001b[1m9/9\u001b[0m \u001b[32m━━━━━━━━━━━━━━━━━━━━\u001b[0m\u001b[37m\u001b[0m \u001b[1m0s\u001b[0m 15ms/step - categorical_accuracy: 0.7766 - loss: 0.5575 - val_categorical_accuracy: 0.7500 - val_loss: 0.7952 - learning_rate: 4.0000e-04\n",
            "Epoch 53/500\n",
            "\u001b[1m9/9\u001b[0m \u001b[32m━━━━━━━━━━━━━━━━━━━━\u001b[0m\u001b[37m\u001b[0m \u001b[1m0s\u001b[0m 16ms/step - categorical_accuracy: 0.8112 - loss: 0.5076 - val_categorical_accuracy: 0.6731 - val_loss: 0.7742 - learning_rate: 4.0000e-04\n",
            "Epoch 54/500\n",
            "\u001b[1m9/9\u001b[0m \u001b[32m━━━━━━━━━━━━━━━━━━━━\u001b[0m\u001b[37m\u001b[0m \u001b[1m0s\u001b[0m 16ms/step - categorical_accuracy: 0.7813 - loss: 0.5514 - val_categorical_accuracy: 0.6346 - val_loss: 0.7751 - learning_rate: 4.0000e-04\n",
            "Epoch 55/500\n",
            "\u001b[1m9/9\u001b[0m \u001b[32m━━━━━━━━━━━━━━━━━━━━\u001b[0m\u001b[37m\u001b[0m \u001b[1m0s\u001b[0m 14ms/step - categorical_accuracy: 0.8037 - loss: 0.5036 - val_categorical_accuracy: 0.7115 - val_loss: 0.8004 - learning_rate: 4.0000e-04\n",
            "Epoch 56/500\n",
            "\u001b[1m9/9\u001b[0m \u001b[32m━━━━━━━━━━━━━━━━━━━━\u001b[0m\u001b[37m\u001b[0m \u001b[1m0s\u001b[0m 14ms/step - categorical_accuracy: 0.8032 - loss: 0.5140 - val_categorical_accuracy: 0.6538 - val_loss: 0.7942 - learning_rate: 4.0000e-04\n",
            "Epoch 57/500\n",
            "\u001b[1m9/9\u001b[0m \u001b[32m━━━━━━━━━━━━━━━━━━━━\u001b[0m\u001b[37m\u001b[0m \u001b[1m0s\u001b[0m 14ms/step - categorical_accuracy: 0.8337 - loss: 0.5004 - val_categorical_accuracy: 0.7115 - val_loss: 0.7322 - learning_rate: 4.0000e-04\n",
            "Epoch 58/500\n",
            "\u001b[1m9/9\u001b[0m \u001b[32m━━━━━━━━━━━━━━━━━━━━\u001b[0m\u001b[37m\u001b[0m \u001b[1m0s\u001b[0m 14ms/step - categorical_accuracy: 0.8379 - loss: 0.4752 - val_categorical_accuracy: 0.7308 - val_loss: 0.7323 - learning_rate: 4.0000e-04\n",
            "Epoch 59/500\n",
            "\u001b[1m9/9\u001b[0m \u001b[32m━━━━━━━━━━━━━━━━━━━━\u001b[0m\u001b[37m\u001b[0m \u001b[1m0s\u001b[0m 13ms/step - categorical_accuracy: 0.8004 - loss: 0.5002 - val_categorical_accuracy: 0.7115 - val_loss: 0.7633 - learning_rate: 4.0000e-04\n",
            "Epoch 60/500\n",
            "\u001b[1m9/9\u001b[0m \u001b[32m━━━━━━━━━━━━━━━━━━━━\u001b[0m\u001b[37m\u001b[0m \u001b[1m0s\u001b[0m 14ms/step - categorical_accuracy: 0.8587 - loss: 0.4196 - val_categorical_accuracy: 0.7115 - val_loss: 0.7146 - learning_rate: 4.0000e-04\n",
            "Epoch 61/500\n",
            "\u001b[1m9/9\u001b[0m \u001b[32m━━━━━━━━━━━━━━━━━━━━\u001b[0m\u001b[37m\u001b[0m \u001b[1m0s\u001b[0m 17ms/step - categorical_accuracy: 0.8605 - loss: 0.4360 - val_categorical_accuracy: 0.7500 - val_loss: 0.6921 - learning_rate: 4.0000e-04\n",
            "Epoch 62/500\n",
            "\u001b[1m9/9\u001b[0m \u001b[32m━━━━━━━━━━━━━━━━━━━━\u001b[0m\u001b[37m\u001b[0m \u001b[1m0s\u001b[0m 14ms/step - categorical_accuracy: 0.8506 - loss: 0.4317 - val_categorical_accuracy: 0.6923 - val_loss: 0.6940 - learning_rate: 4.0000e-04\n",
            "Epoch 63/500\n",
            "\u001b[1m9/9\u001b[0m \u001b[32m━━━━━━━━━━━━━━━━━━━━\u001b[0m\u001b[37m\u001b[0m \u001b[1m0s\u001b[0m 14ms/step - categorical_accuracy: 0.8089 - loss: 0.4886 - val_categorical_accuracy: 0.7500 - val_loss: 0.6665 - learning_rate: 4.0000e-04\n",
            "Epoch 64/500\n",
            "\u001b[1m9/9\u001b[0m \u001b[32m━━━━━━━━━━━━━━━━━━━━\u001b[0m\u001b[37m\u001b[0m \u001b[1m0s\u001b[0m 14ms/step - categorical_accuracy: 0.8154 - loss: 0.4612 - val_categorical_accuracy: 0.7115 - val_loss: 0.7062 - learning_rate: 4.0000e-04\n",
            "Epoch 65/500\n",
            "\u001b[1m9/9\u001b[0m \u001b[32m━━━━━━━━━━━━━━━━━━━━\u001b[0m\u001b[37m\u001b[0m \u001b[1m0s\u001b[0m 16ms/step - categorical_accuracy: 0.8464 - loss: 0.4533 - val_categorical_accuracy: 0.7500 - val_loss: 0.6579 - learning_rate: 4.0000e-04\n",
            "Epoch 66/500\n",
            "\u001b[1m9/9\u001b[0m \u001b[32m━━━━━━━━━━━━━━━━━━━━\u001b[0m\u001b[37m\u001b[0m \u001b[1m0s\u001b[0m 15ms/step - categorical_accuracy: 0.8279 - loss: 0.4470 - val_categorical_accuracy: 0.7308 - val_loss: 0.6560 - learning_rate: 4.0000e-04\n",
            "Epoch 67/500\n",
            "\u001b[1m9/9\u001b[0m \u001b[32m━━━━━━━━━━━━━━━━━━━━\u001b[0m\u001b[37m\u001b[0m \u001b[1m0s\u001b[0m 14ms/step - categorical_accuracy: 0.8592 - loss: 0.4031 - val_categorical_accuracy: 0.7692 - val_loss: 0.6082 - learning_rate: 4.0000e-04\n",
            "Epoch 68/500\n",
            "\u001b[1m9/9\u001b[0m \u001b[32m━━━━━━━━━━━━━━━━━━━━\u001b[0m\u001b[37m\u001b[0m \u001b[1m0s\u001b[0m 15ms/step - categorical_accuracy: 0.8524 - loss: 0.3852 - val_categorical_accuracy: 0.7500 - val_loss: 0.5987 - learning_rate: 4.0000e-04\n",
            "Epoch 69/500\n",
            "\u001b[1m9/9\u001b[0m \u001b[32m━━━━━━━━━━━━━━━━━━━━\u001b[0m\u001b[37m\u001b[0m \u001b[1m0s\u001b[0m 14ms/step - categorical_accuracy: 0.8615 - loss: 0.3694 - val_categorical_accuracy: 0.7692 - val_loss: 0.6609 - learning_rate: 4.0000e-04\n",
            "Epoch 70/500\n",
            "\u001b[1m9/9\u001b[0m \u001b[32m━━━━━━━━━━━━━━━━━━━━\u001b[0m\u001b[37m\u001b[0m \u001b[1m0s\u001b[0m 15ms/step - categorical_accuracy: 0.8815 - loss: 0.3794 - val_categorical_accuracy: 0.7500 - val_loss: 0.6284 - learning_rate: 4.0000e-04\n",
            "Epoch 71/500\n",
            "\u001b[1m9/9\u001b[0m \u001b[32m━━━━━━━━━━━━━━━━━━━━\u001b[0m\u001b[37m\u001b[0m \u001b[1m0s\u001b[0m 14ms/step - categorical_accuracy: 0.8632 - loss: 0.3872 - val_categorical_accuracy: 0.7692 - val_loss: 0.5778 - learning_rate: 4.0000e-04\n",
            "Epoch 72/500\n",
            "\u001b[1m9/9\u001b[0m \u001b[32m━━━━━━━━━━━━━━━━━━━━\u001b[0m\u001b[37m\u001b[0m \u001b[1m0s\u001b[0m 15ms/step - categorical_accuracy: 0.8324 - loss: 0.4156 - val_categorical_accuracy: 0.8077 - val_loss: 0.5823 - learning_rate: 4.0000e-04\n",
            "Epoch 73/500\n",
            "\u001b[1m9/9\u001b[0m \u001b[32m━━━━━━━━━━━━━━━━━━━━\u001b[0m\u001b[37m\u001b[0m \u001b[1m0s\u001b[0m 17ms/step - categorical_accuracy: 0.8619 - loss: 0.3886 - val_categorical_accuracy: 0.8077 - val_loss: 0.6077 - learning_rate: 4.0000e-04\n",
            "Epoch 74/500\n",
            "\u001b[1m9/9\u001b[0m \u001b[32m━━━━━━━━━━━━━━━━━━━━\u001b[0m\u001b[37m\u001b[0m \u001b[1m0s\u001b[0m 16ms/step - categorical_accuracy: 0.8557 - loss: 0.3978 - val_categorical_accuracy: 0.8077 - val_loss: 0.6099 - learning_rate: 4.0000e-04\n",
            "Epoch 75/500\n",
            "\u001b[1m9/9\u001b[0m \u001b[32m━━━━━━━━━━━━━━━━━━━━\u001b[0m\u001b[37m\u001b[0m \u001b[1m0s\u001b[0m 15ms/step - categorical_accuracy: 0.8636 - loss: 0.3764 - val_categorical_accuracy: 0.7308 - val_loss: 0.6399 - learning_rate: 4.0000e-04\n",
            "Epoch 76/500\n",
            "\u001b[1m9/9\u001b[0m \u001b[32m━━━━━━━━━━━━━━━━━━━━\u001b[0m\u001b[37m\u001b[0m \u001b[1m0s\u001b[0m 13ms/step - categorical_accuracy: 0.8819 - loss: 0.3667 - val_categorical_accuracy: 0.7885 - val_loss: 0.5775 - learning_rate: 4.0000e-04\n",
            "Epoch 77/500\n",
            "\u001b[1m9/9\u001b[0m \u001b[32m━━━━━━━━━━━━━━━━━━━━\u001b[0m\u001b[37m\u001b[0m \u001b[1m0s\u001b[0m 15ms/step - categorical_accuracy: 0.8883 - loss: 0.3475 - val_categorical_accuracy: 0.7692 - val_loss: 0.5928 - learning_rate: 4.0000e-04\n",
            "Epoch 78/500\n",
            "\u001b[1m9/9\u001b[0m \u001b[32m━━━━━━━━━━━━━━━━━━━━\u001b[0m\u001b[37m\u001b[0m \u001b[1m0s\u001b[0m 17ms/step - categorical_accuracy: 0.8760 - loss: 0.3383 - val_categorical_accuracy: 0.8077 - val_loss: 0.5572 - learning_rate: 4.0000e-04\n",
            "Epoch 79/500\n",
            "\u001b[1m9/9\u001b[0m \u001b[32m━━━━━━━━━━━━━━━━━━━━\u001b[0m\u001b[37m\u001b[0m \u001b[1m0s\u001b[0m 14ms/step - categorical_accuracy: 0.8763 - loss: 0.3452 - val_categorical_accuracy: 0.7692 - val_loss: 0.5621 - learning_rate: 4.0000e-04\n",
            "Epoch 80/500\n",
            "\u001b[1m9/9\u001b[0m \u001b[32m━━━━━━━━━━━━━━━━━━━━\u001b[0m\u001b[37m\u001b[0m \u001b[1m0s\u001b[0m 15ms/step - categorical_accuracy: 0.8903 - loss: 0.3409 - val_categorical_accuracy: 0.7885 - val_loss: 0.5670 - learning_rate: 4.0000e-04\n",
            "Epoch 81/500\n",
            "\u001b[1m9/9\u001b[0m \u001b[32m━━━━━━━━━━━━━━━━━━━━\u001b[0m\u001b[37m\u001b[0m \u001b[1m0s\u001b[0m 14ms/step - categorical_accuracy: 0.8559 - loss: 0.3908 - val_categorical_accuracy: 0.7885 - val_loss: 0.5873 - learning_rate: 4.0000e-04\n",
            "Epoch 82/500\n",
            "\u001b[1m9/9\u001b[0m \u001b[32m━━━━━━━━━━━━━━━━━━━━\u001b[0m\u001b[37m\u001b[0m \u001b[1m0s\u001b[0m 13ms/step - categorical_accuracy: 0.8520 - loss: 0.3846 - val_categorical_accuracy: 0.7500 - val_loss: 0.6414 - learning_rate: 4.0000e-04\n",
            "Epoch 83/500\n",
            "\u001b[1m9/9\u001b[0m \u001b[32m━━━━━━━━━━━━━━━━━━━━\u001b[0m\u001b[37m\u001b[0m \u001b[1m0s\u001b[0m 15ms/step - categorical_accuracy: 0.8580 - loss: 0.4413 - val_categorical_accuracy: 0.7692 - val_loss: 0.6220 - learning_rate: 4.0000e-04\n",
            "Epoch 84/500\n",
            "\u001b[1m9/9\u001b[0m \u001b[32m━━━━━━━━━━━━━━━━━━━━\u001b[0m\u001b[37m\u001b[0m \u001b[1m0s\u001b[0m 15ms/step - categorical_accuracy: 0.8736 - loss: 0.3535 - val_categorical_accuracy: 0.8269 - val_loss: 0.5698 - learning_rate: 8.0000e-05\n",
            "Epoch 85/500\n",
            "\u001b[1m9/9\u001b[0m \u001b[32m━━━━━━━━━━━━━━━━━━━━\u001b[0m\u001b[37m\u001b[0m \u001b[1m0s\u001b[0m 14ms/step - categorical_accuracy: 0.9130 - loss: 0.2991 - val_categorical_accuracy: 0.8077 - val_loss: 0.5728 - learning_rate: 8.0000e-05\n",
            "Epoch 86/500\n",
            "\u001b[1m9/9\u001b[0m \u001b[32m━━━━━━━━━━━━━━━━━━━━\u001b[0m\u001b[37m\u001b[0m \u001b[1m0s\u001b[0m 15ms/step - categorical_accuracy: 0.8866 - loss: 0.3329 - val_categorical_accuracy: 0.8269 - val_loss: 0.5651 - learning_rate: 8.0000e-05\n",
            "Epoch 87/500\n",
            "\u001b[1m9/9\u001b[0m \u001b[32m━━━━━━━━━━━━━━━━━━━━\u001b[0m\u001b[37m\u001b[0m \u001b[1m0s\u001b[0m 14ms/step - categorical_accuracy: 0.8996 - loss: 0.3062 - val_categorical_accuracy: 0.8269 - val_loss: 0.5710 - learning_rate: 8.0000e-05\n",
            "Epoch 88/500\n",
            "\u001b[1m9/9\u001b[0m \u001b[32m━━━━━━━━━━━━━━━━━━━━\u001b[0m\u001b[37m\u001b[0m \u001b[1m0s\u001b[0m 13ms/step - categorical_accuracy: 0.8705 - loss: 0.3602 - val_categorical_accuracy: 0.8269 - val_loss: 0.5557 - learning_rate: 8.0000e-05\n",
            "Epoch 89/500\n",
            "\u001b[1m9/9\u001b[0m \u001b[32m━━━━━━━━━━━━━━━━━━━━\u001b[0m\u001b[37m\u001b[0m \u001b[1m0s\u001b[0m 16ms/step - categorical_accuracy: 0.9036 - loss: 0.2625 - val_categorical_accuracy: 0.8269 - val_loss: 0.5533 - learning_rate: 8.0000e-05\n",
            "Epoch 90/500\n",
            "\u001b[1m9/9\u001b[0m \u001b[32m━━━━━━━━━━━━━━━━━━━━\u001b[0m\u001b[37m\u001b[0m \u001b[1m0s\u001b[0m 18ms/step - categorical_accuracy: 0.9156 - loss: 0.2651 - val_categorical_accuracy: 0.8269 - val_loss: 0.5683 - learning_rate: 8.0000e-05\n",
            "Epoch 91/500\n",
            "\u001b[1m9/9\u001b[0m \u001b[32m━━━━━━━━━━━━━━━━━━━━\u001b[0m\u001b[37m\u001b[0m \u001b[1m0s\u001b[0m 18ms/step - categorical_accuracy: 0.9000 - loss: 0.3086 - val_categorical_accuracy: 0.8269 - val_loss: 0.5646 - learning_rate: 8.0000e-05\n",
            "Epoch 92/500\n",
            "\u001b[1m9/9\u001b[0m \u001b[32m━━━━━━━━━━━━━━━━━━━━\u001b[0m\u001b[37m\u001b[0m \u001b[1m0s\u001b[0m 19ms/step - categorical_accuracy: 0.8918 - loss: 0.3107 - val_categorical_accuracy: 0.8077 - val_loss: 0.5530 - learning_rate: 8.0000e-05\n",
            "Epoch 93/500\n",
            "\u001b[1m9/9\u001b[0m \u001b[32m━━━━━━━━━━━━━━━━━━━━\u001b[0m\u001b[37m\u001b[0m \u001b[1m0s\u001b[0m 18ms/step - categorical_accuracy: 0.9127 - loss: 0.2961 - val_categorical_accuracy: 0.8269 - val_loss: 0.5517 - learning_rate: 8.0000e-05\n",
            "Epoch 94/500\n",
            "\u001b[1m9/9\u001b[0m \u001b[32m━━━━━━━━━━━━━━━━━━━━\u001b[0m\u001b[37m\u001b[0m \u001b[1m0s\u001b[0m 21ms/step - categorical_accuracy: 0.9000 - loss: 0.2933 - val_categorical_accuracy: 0.8269 - val_loss: 0.5589 - learning_rate: 8.0000e-05\n",
            "Epoch 95/500\n",
            "\u001b[1m9/9\u001b[0m \u001b[32m━━━━━━━━━━━━━━━━━━━━\u001b[0m\u001b[37m\u001b[0m \u001b[1m0s\u001b[0m 19ms/step - categorical_accuracy: 0.9091 - loss: 0.2848 - val_categorical_accuracy: 0.8269 - val_loss: 0.5541 - learning_rate: 8.0000e-05\n",
            "Epoch 96/500\n",
            "\u001b[1m9/9\u001b[0m \u001b[32m━━━━━━━━━━━━━━━━━━━━\u001b[0m\u001b[37m\u001b[0m \u001b[1m0s\u001b[0m 20ms/step - categorical_accuracy: 0.8775 - loss: 0.3542 - val_categorical_accuracy: 0.8269 - val_loss: 0.5550 - learning_rate: 8.0000e-05\n",
            "Epoch 97/500\n",
            "\u001b[1m9/9\u001b[0m \u001b[32m━━━━━━━━━━━━━━━━━━━━\u001b[0m\u001b[37m\u001b[0m \u001b[1m0s\u001b[0m 18ms/step - categorical_accuracy: 0.8732 - loss: 0.2937 - val_categorical_accuracy: 0.8269 - val_loss: 0.5500 - learning_rate: 8.0000e-05\n",
            "Epoch 98/500\n",
            "\u001b[1m9/9\u001b[0m \u001b[32m━━━━━━━━━━━━━━━━━━━━\u001b[0m\u001b[37m\u001b[0m \u001b[1m0s\u001b[0m 21ms/step - categorical_accuracy: 0.8929 - loss: 0.3257 - val_categorical_accuracy: 0.8269 - val_loss: 0.5497 - learning_rate: 8.0000e-05\n",
            "Epoch 99/500\n",
            "\u001b[1m9/9\u001b[0m \u001b[32m━━━━━━━━━━━━━━━━━━━━\u001b[0m\u001b[37m\u001b[0m \u001b[1m0s\u001b[0m 23ms/step - categorical_accuracy: 0.8953 - loss: 0.3026 - val_categorical_accuracy: 0.8269 - val_loss: 0.5507 - learning_rate: 8.0000e-05\n",
            "Epoch 100/500\n",
            "\u001b[1m9/9\u001b[0m \u001b[32m━━━━━━━━━━━━━━━━━━━━\u001b[0m\u001b[37m\u001b[0m \u001b[1m0s\u001b[0m 20ms/step - categorical_accuracy: 0.9028 - loss: 0.2915 - val_categorical_accuracy: 0.8269 - val_loss: 0.5493 - learning_rate: 8.0000e-05\n",
            "Epoch 101/500\n",
            "\u001b[1m9/9\u001b[0m \u001b[32m━━━━━━━━━━━━━━━━━━━━\u001b[0m\u001b[37m\u001b[0m \u001b[1m0s\u001b[0m 19ms/step - categorical_accuracy: 0.8967 - loss: 0.2937 - val_categorical_accuracy: 0.8269 - val_loss: 0.5518 - learning_rate: 8.0000e-05\n",
            "Epoch 102/500\n",
            "\u001b[1m9/9\u001b[0m \u001b[32m━━━━━━━━━━━━━━━━━━━━\u001b[0m\u001b[37m\u001b[0m \u001b[1m0s\u001b[0m 23ms/step - categorical_accuracy: 0.8831 - loss: 0.2911 - val_categorical_accuracy: 0.8269 - val_loss: 0.5556 - learning_rate: 8.0000e-05\n",
            "Epoch 103/500\n",
            "\u001b[1m9/9\u001b[0m \u001b[32m━━━━━━━━━━━━━━━━━━━━\u001b[0m\u001b[37m\u001b[0m \u001b[1m0s\u001b[0m 32ms/step - categorical_accuracy: 0.8842 - loss: 0.3121 - val_categorical_accuracy: 0.8269 - val_loss: 0.5506 - learning_rate: 8.0000e-05\n",
            "Epoch 104/500\n",
            "\u001b[1m9/9\u001b[0m \u001b[32m━━━━━━━━━━━━━━━━━━━━\u001b[0m\u001b[37m\u001b[0m \u001b[1m0s\u001b[0m 17ms/step - categorical_accuracy: 0.9033 - loss: 0.2617 - val_categorical_accuracy: 0.8269 - val_loss: 0.5510 - learning_rate: 8.0000e-05\n",
            "Epoch 105/500\n",
            "\u001b[1m9/9\u001b[0m \u001b[32m━━━━━━━━━━━━━━━━━━━━\u001b[0m\u001b[37m\u001b[0m \u001b[1m0s\u001b[0m 16ms/step - categorical_accuracy: 0.9068 - loss: 0.2548 - val_categorical_accuracy: 0.7885 - val_loss: 0.5578 - learning_rate: 8.0000e-05\n",
            "Epoch 106/500\n",
            "\u001b[1m9/9\u001b[0m \u001b[32m━━━━━━━━━━━━━━━━━━━━\u001b[0m\u001b[37m\u001b[0m \u001b[1m0s\u001b[0m 16ms/step - categorical_accuracy: 0.9061 - loss: 0.2785 - val_categorical_accuracy: 0.8077 - val_loss: 0.5541 - learning_rate: 1.6000e-05\n",
            "Epoch 107/500\n",
            "\u001b[1m9/9\u001b[0m \u001b[32m━━━━━━━━━━━━━━━━━━━━\u001b[0m\u001b[37m\u001b[0m \u001b[1m0s\u001b[0m 14ms/step - categorical_accuracy: 0.9032 - loss: 0.2766 - val_categorical_accuracy: 0.8269 - val_loss: 0.5520 - learning_rate: 1.6000e-05\n",
            "Epoch 108/500\n",
            "\u001b[1m9/9\u001b[0m \u001b[32m━━━━━━━━━━━━━━━━━━━━\u001b[0m\u001b[37m\u001b[0m \u001b[1m0s\u001b[0m 16ms/step - categorical_accuracy: 0.8928 - loss: 0.2843 - val_categorical_accuracy: 0.8269 - val_loss: 0.5538 - learning_rate: 1.6000e-05\n",
            "Epoch 109/500\n",
            "\u001b[1m9/9\u001b[0m \u001b[32m━━━━━━━━━━━━━━━━━━━━\u001b[0m\u001b[37m\u001b[0m \u001b[1m0s\u001b[0m 16ms/step - categorical_accuracy: 0.8936 - loss: 0.3131 - val_categorical_accuracy: 0.8269 - val_loss: 0.5553 - learning_rate: 1.6000e-05\n",
            "Epoch 110/500\n",
            "\u001b[1m9/9\u001b[0m \u001b[32m━━━━━━━━━━━━━━━━━━━━\u001b[0m\u001b[37m\u001b[0m \u001b[1m0s\u001b[0m 16ms/step - categorical_accuracy: 0.8881 - loss: 0.2961 - val_categorical_accuracy: 0.8269 - val_loss: 0.5530 - learning_rate: 1.6000e-05\n"
          ]
        },
        {
          "output_type": "execute_result",
          "data": {
            "text/plain": [
              "<keras.src.callbacks.history.History at 0x7dcf505f5450>"
            ]
          },
          "metadata": {},
          "execution_count": 30
        }
      ],
      "source": [
        "# Recreate the optimizer\n",
        "opt = tf.keras.optimizers.Adam(learning_rate=0.01)\n",
        "\n",
        "# Recompile the model with the new optimizer\n",
        "AttnLSTM.compile(optimizer=opt, loss='categorical_crossentropy', metrics=['categorical_accuracy'])\n",
        "\n",
        "# Train the model\n",
        "AttnLSTM.fit(X_train, y_train, batch_size=batch_size, epochs=max_epochs, validation_data=(X_val, y_val), callbacks=[callbacks])\n"
      ]
    },
    {
      "cell_type": "code",
      "execution_count": null,
      "metadata": {
        "id": "Jt4VXKS7LgD7",
        "colab": {
          "base_uri": "https://localhost:8080/",
          "height": 388
        },
        "outputId": "55369350-09e8-49dd-8b24-9ea205816ec8"
      },
      "outputs": [
        {
          "output_type": "display_data",
          "data": {
            "text/plain": [
              "<Figure size 1200x400 with 2 Axes>"
            ],
            "image/png": "[encoded data removed]"
          },
          "metadata": {}
        }
      ],
      "source": [
        "plt.figure(figsize=(12, 4))\n",
        "\n",
        "plt.subplot(1, 2, 1)\n",
        "plt.plot(custom_callback.epoch_accuracy, label='Accuracy')\n",
        "plt.xlabel('Epoch')\n",
        "plt.ylabel('Accuracy')\n",
        "plt.legend()\n",
        "\n",
        "plt.subplot(1, 2, 2)\n",
        "plt.plot(custom_callback.epoch_loss, label='Loss')\n",
        "plt.xlabel('Epoch')\n",
        "plt.ylabel('Loss')\n",
        "plt.legend()\n",
        "\n",
        "plt.show()"
      ]
    },
    {
      "cell_type": "markdown",
      "metadata": {
        "id": "RWWlXDafLh2Q"
      },
      "source": [
        "#Lưu model"
      ]
    },
    {
      "cell_type": "code",
      "execution_count": null,
      "metadata": {
        "id": "H-6MHY_yXJKl"
      },
      "outputs": [],
      "source": [
        "# Model map\n",
        "models = {\n",
        "    'LSTM_plank': lstm,\n",
        "    'LSTM_Attention_plank': AttnLSTM,\n",
        "}"
      ]
    },
    {
      "cell_type": "code",
      "execution_count": null,
      "metadata": {
        "colab": {
          "base_uri": "https://localhost:8080/"
        },
        "id": "O51Ls2NyXLYU",
        "outputId": "a01152d0-d0e2-47d0-a7bd-949305cab7aa"
      },
      "outputs": [
        {
          "output_type": "stream",
          "name": "stderr",
          "text": [
            "WARNING:absl:You are saving your model as an HDF5 file via `model.save()` or `keras.saving.save_model(model)`. This file format is considered legacy. We recommend using instead the native Keras format, e.g. `model.save('my_model.keras')` or `keras.saving.save_model(model, 'my_model.keras')`. \n",
            "WARNING:absl:You are saving your model as an HDF5 file via `model.save()` or `keras.saving.save_model(model)`. This file format is considered legacy. We recommend using instead the native Keras format, e.g. `model.save('my_model.keras')` or `keras.saving.save_model(model, 'my_model.keras')`. \n"
          ]
        }
      ],
      "source": [
        "for model_name, model in models.items():\n",
        "    # Define the save directory in /content/\n",
        "    save_dir = os.path.join('/content/drive/MyDrive/model', f\"{model_name}.h5\")\n",
        "    model.save(save_dir)"
      ]
    },
    {
      "cell_type": "code",
      "execution_count": null,
      "metadata": {
        "id": "I1YkMDXMXgIs"
      },
      "outputs": [],
      "source": [
        "# Run model rebuild before doing this\n",
        "for model_name, model in models.items():\n",
        "    # Define the load directory in /content/\n",
        "    load_dir = os.path.join('/content/drive/MyDrive/result/new1/plank', f\"{model_name}.h5\")\n",
        "    model.load_weights(load_dir)"
      ]
    },
    {
      "cell_type": "code",
      "source": [
        "#Bảo\n",
        "eval_results = {}\n",
        "confusion_matrices = {}\n",
        "classification_reports = {}\n",
        "\n",
        "for model_name, model in models.items():\n",
        "  # Predict on test data\n",
        "  yhat = model.predict(X_test, verbose=0)\n",
        "\n",
        "  # Convert predictions and true labels to class indices\n",
        "  ytrue = np.argmax(y_test, axis=1).tolist()\n",
        "  yhat = np.argmax(yhat, axis=1).tolist()\n",
        "\n",
        "  # Confusion matrix\n",
        "  cm = confusion_matrix(ytrue, yhat)\n",
        "  confusion_matrices[model_name] = cm\n",
        "\n",
        "  # Classification report\n",
        "  report = classification_report(ytrue, yhat, target_names=actions, output_dict=True)\n",
        "  classification_reports[model_name] = report\n",
        "\n",
        "  # Print confusion matrix\n",
        "  plt.figure(figsize=(8, 6))\n",
        "  sns.heatmap(cm, annot=True, fmt='d', cmap='Blues', xticklabels=actions, yticklabels=actions)\n",
        "  plt.xlabel('Predicted label')\n",
        "  plt.ylabel('True label')\n",
        "  plt.title(f'Confusion Matrix for {model_name}')\n",
        "  plt.show()\n",
        "\n",
        "  # Print classification report\n",
        "  print(f\"Classification Report for {model_name}:\")\n",
        "  print(classification_report(ytrue, yhat, target_names=actions))\n",
        "\n",
        "eval_results['confusion matrix'] = confusion_matrices\n",
        "eval_results['classification report'] = classification_reports"
      ],
      "metadata": {
        "id": "wdsu-ia8S27V",
        "colab": {
          "base_uri": "https://localhost:8080/",
          "height": 1000
        },
        "outputId": "833e01aa-3205-47ae-f433-67c7b3887ab2"
      },
      "execution_count": null,
      "outputs": [
        {
          "output_type": "stream",
          "name": "stderr",
          "text": [
            "/usr/local/lib/python3.10/dist-packages/sklearn/metrics/_classification.py:1565: UndefinedMetricWarning: Precision is ill-defined and being set to 0.0 in labels with no predicted samples. Use `zero_division` parameter to control this behavior.\n",
            "  _warn_prf(average, modifier, f\"{metric.capitalize()} is\", len(result))\n",
            "/usr/local/lib/python3.10/dist-packages/sklearn/metrics/_classification.py:1565: UndefinedMetricWarning: Precision is ill-defined and being set to 0.0 in labels with no predicted samples. Use `zero_division` parameter to control this behavior.\n",
            "  _warn_prf(average, modifier, f\"{metric.capitalize()} is\", len(result))\n",
            "/usr/local/lib/python3.10/dist-packages/sklearn/metrics/_classification.py:1565: UndefinedMetricWarning: Precision is ill-defined and being set to 0.0 in labels with no predicted samples. Use `zero_division` parameter to control this behavior.\n",
            "  _warn_prf(average, modifier, f\"{metric.capitalize()} is\", len(result))\n"
          ]
        },
        {
          "output_type": "display_data",
          "data": {
            "text/plain": [
              "<Figure size 800x600 with 2 Axes>"
            ],
            "image/png": "[encoded data removed]"
          },
          "metadata": {}
        },
        {
          "output_type": "stream",
          "name": "stdout",
          "text": [
            "Classification Report for LSTM_plank:\n",
            "              precision    recall  f1-score   support\n",
            "\n",
            "           c       0.23      1.00      0.38         7\n",
            "           1       0.00      0.00      0.00         3\n",
            "           2       0.00      0.00      0.00         4\n",
            "           3       0.00      0.00      0.00         8\n",
            "           4       0.00      0.00      0.00         3\n",
            "           5       0.00      0.00      0.00         5\n",
            "\n",
            "    accuracy                           0.23        30\n",
            "   macro avg       0.04      0.17      0.06        30\n",
            "weighted avg       0.05      0.23      0.09        30\n",
            "\n"
          ]
        },
        {
          "output_type": "stream",
          "name": "stderr",
          "text": [
            "/usr/local/lib/python3.10/dist-packages/sklearn/metrics/_classification.py:1565: UndefinedMetricWarning: Precision is ill-defined and being set to 0.0 in labels with no predicted samples. Use `zero_division` parameter to control this behavior.\n",
            "  _warn_prf(average, modifier, f\"{metric.capitalize()} is\", len(result))\n",
            "/usr/local/lib/python3.10/dist-packages/sklearn/metrics/_classification.py:1565: UndefinedMetricWarning: Precision is ill-defined and being set to 0.0 in labels with no predicted samples. Use `zero_division` parameter to control this behavior.\n",
            "  _warn_prf(average, modifier, f\"{metric.capitalize()} is\", len(result))\n",
            "/usr/local/lib/python3.10/dist-packages/sklearn/metrics/_classification.py:1565: UndefinedMetricWarning: Precision is ill-defined and being set to 0.0 in labels with no predicted samples. Use `zero_division` parameter to control this behavior.\n",
            "  _warn_prf(average, modifier, f\"{metric.capitalize()} is\", len(result))\n"
          ]
        },
        {
          "output_type": "display_data",
          "data": {
            "text/plain": [
              "<Figure size 800x600 with 2 Axes>"
            ],
            "image/png": "[encoded data removed]"
          },
          "metadata": {}
        },
        {
          "output_type": "stream",
          "name": "stdout",
          "text": [
            "Classification Report for LSTM_Attention_plank:\n",
            "              precision    recall  f1-score   support\n",
            "\n",
            "           c       0.83      0.71      0.77         7\n",
            "           1       1.00      1.00      1.00         3\n",
            "           2       1.00      1.00      1.00         4\n",
            "           3       1.00      1.00      1.00         8\n",
            "           4       1.00      0.67      0.80         3\n",
            "           5       0.71      1.00      0.83         5\n",
            "\n",
            "    accuracy                           0.90        30\n",
            "   macro avg       0.92      0.90      0.90        30\n",
            "weighted avg       0.91      0.90      0.90        30\n",
            "\n"
          ]
        }
      ]
    },
    {
      "cell_type": "code",
      "execution_count": null,
      "metadata": {
        "id": "9nCk7c1nXmWI"
      },
      "outputs": [],
      "source": [
        "for model in models.values():\n",
        "    res = model.predict(X_test, verbose=0)"
      ]
    },
    {
      "cell_type": "code",
      "execution_count": null,
      "metadata": {
        "id": "jgjZobBxXpAA"
      },
      "outputs": [],
      "source": [
        "eval_results = {}\n",
        "eval_results['confusion matrix'] = None\n",
        "eval_results['accuracy'] = None\n",
        "eval_results['precision'] = None\n",
        "eval_results['recall'] = None\n",
        "eval_results['f1 score'] = None\n",
        "\n",
        "confusion_matrices = {}\n",
        "classification_accuracies = {}\n",
        "precisions = {}\n",
        "recalls = {}\n",
        "f1_scores = {}"
      ]
    },
    {
      "cell_type": "code",
      "execution_count": null,
      "metadata": {
        "id": "uk3aWumyXrio"
      },
      "outputs": [],
      "source": [
        "# Initialize confusion matrices for each model\n",
        "for model_name, model in models.items():\n",
        "    yhat = model.predict(X_test, verbose=0)\n",
        "\n",
        "    # Get list of classification predictions\n",
        "    ytrue = np.argmax(y_test, axis=1).tolist()\n",
        "    yhat = np.argmax(yhat, axis=1).tolist()\n",
        "\n",
        "    # Confusion matrix\n",
        "    confusion_matrices[model_name] = confusion_matrix(ytrue, yhat)\n",
        "\n",
        "# Collect results\n",
        "eval_results['confusion matrix'] = confusion_matrices"
      ]
    },
    {
      "cell_type": "code",
      "execution_count": null,
      "metadata": {
        "id": "rbB3HFsdNG-X",
        "colab": {
          "base_uri": "https://localhost:8080/",
          "height": 1000
        },
        "outputId": "2f966e36-bdff-45e7-d687-eaafd9110ca5"
      },
      "outputs": [
        {
          "output_type": "display_data",
          "data": {
            "text/plain": [
              "<Figure size 800x600 with 2 Axes>"
            ],
            "image/png": "[encoded data removed]"
          },
          "metadata": {}
        },
        {
          "output_type": "display_data",
          "data": {
            "text/plain": [
              "<Figure size 800x600 with 2 Axes>"
            ],
            "image/png": "[encoded data removed]"
          },
          "metadata": {}
        }
      ],
      "source": [
        "for model_name, cm in confusion_matrices.items():\n",
        "  plt.figure(figsize=(8, 6))\n",
        "  sns.heatmap(cm, annot=True, fmt='d', cmap='Blues', xticklabels=['c', '1', '2', '3', '4'], yticklabels=['c', '1', '2', '3', '4'])\n",
        "  plt.xlabel('Predicted label')\n",
        "  plt.ylabel('True label')\n",
        "  plt.title(f'Combined Confusion Matrix of {model_name}')\n",
        "  plt.show()"
      ]
    },
    {
      "cell_type": "code",
      "execution_count": null,
      "metadata": {
        "colab": {
          "base_uri": "https://localhost:8080/"
        },
        "id": "jh0olDPBXtjh",
        "outputId": "f2b91b05-ca74-4693-9d66-dbca6b1b6b9e"
      },
      "outputs": [
        {
          "output_type": "stream",
          "name": "stdout",
          "text": [
            "LSTM_squat classification accuracy = 25.714%\n",
            "LSTM_Attention_squat classification accuracy = 94.286%\n"
          ]
        }
      ],
      "source": [
        "for model_name, model in models.items():\n",
        "    yhat = model.predict(X_test, verbose=0)\n",
        "\n",
        "    # Get list of classification predictions\n",
        "    ytrue = np.argmax(y_test, axis=1).tolist()\n",
        "    yhat = np.argmax(yhat, axis=1).tolist()\n",
        "\n",
        "    # Model accuracy\n",
        "    classification_accuracies[model_name] = accuracy_score(ytrue, yhat)\n",
        "    print(f\"{model_name} classification accuracy = {round(classification_accuracies[model_name]*100,3)}%\")\n",
        "\n",
        "# Collect results\n",
        "eval_results['accuracy'] = classification_accuracies"
      ]
    },
    {
      "cell_type": "code",
      "execution_count": null,
      "metadata": {
        "colab": {
          "base_uri": "https://localhost:8080/"
        },
        "id": "UvlY4UjkXw3h",
        "outputId": "16cc5d0c-aff3-4450-af69-bcb07b11e09d"
      },
      "outputs": [
        {
          "output_type": "stream",
          "name": "stdout",
          "text": [
            "LSTM_squat weighted average precision = 0.066\n",
            "LSTM_squat weighted average recall = 0.257\n",
            "LSTM_squat weighted average f1-score = 0.105\n",
            "\n",
            "LSTM_Attention_squat weighted average precision = 0.955\n",
            "LSTM_Attention_squat weighted average recall = 0.943\n",
            "LSTM_Attention_squat weighted average f1-score = 0.944\n",
            "\n"
          ]
        },
        {
          "output_type": "stream",
          "name": "stderr",
          "text": [
            "/usr/local/lib/python3.10/dist-packages/sklearn/metrics/_classification.py:1565: UndefinedMetricWarning: Precision is ill-defined and being set to 0.0 in labels with no predicted samples. Use `zero_division` parameter to control this behavior.\n",
            "  _warn_prf(average, modifier, f\"{metric.capitalize()} is\", len(result))\n",
            "/usr/local/lib/python3.10/dist-packages/sklearn/metrics/_classification.py:1565: UndefinedMetricWarning: Precision is ill-defined and being set to 0.0 in labels with no predicted samples. Use `zero_division` parameter to control this behavior.\n",
            "  _warn_prf(average, modifier, f\"{metric.capitalize()} is\", len(result))\n",
            "/usr/local/lib/python3.10/dist-packages/sklearn/metrics/_classification.py:1565: UndefinedMetricWarning: Precision is ill-defined and being set to 0.0 in labels with no predicted samples. Use `zero_division` parameter to control this behavior.\n",
            "  _warn_prf(average, modifier, f\"{metric.capitalize()} is\", len(result))\n"
          ]
        }
      ],
      "source": [
        "for model_name, model in models.items():\n",
        "    yhat = model.predict(X_test, verbose=0)\n",
        "\n",
        "    # Get list of classification predictions\n",
        "    ytrue = np.argmax(y_test, axis=1).tolist()\n",
        "    yhat = np.argmax(yhat, axis=1).tolist()\n",
        "\n",
        "    # Get unique classes\n",
        "    unique_classes = np.unique(ytrue)\n",
        "\n",
        "    # Precision, recall, and f1 score\n",
        "    report = classification_report(ytrue, yhat, target_names=actions, labels=unique_classes, output_dict=True)\n",
        "\n",
        "    precisions[model_name] = report['weighted avg']['precision']\n",
        "    recalls[model_name] = report['weighted avg']['recall']\n",
        "    f1_scores[model_name] = report['weighted avg']['f1-score']\n",
        "\n",
        "    print(f\"{model_name} weighted average precision = {round(precisions[model_name], 3)}\")\n",
        "    print(f\"{model_name} weighted average recall = {round(recalls[model_name], 3)}\")\n",
        "    print(f\"{model_name} weighted average f1-score = {round(f1_scores[model_name], 3)}\\n\")\n",
        "\n",
        "# Collect results\n",
        "eval_results['precision'] = precisions\n",
        "eval_results['recall'] = recalls\n",
        "eval_results['f1 score'] = f1_scores\n"
      ]
    }
  ],
  "metadata": {
    "colab": {
      "provenance": [],
      "gpuType": "T4",
      "include_colab_link": true
    },
    "kernelspec": {
      "display_name": "Python 3",
      "name": "python3"
    },
    "language_info": {
      "name": "python"
    },
    "accelerator": "GPU"
  },
  "nbformat": 4,
  "nbformat_minor": 0
}